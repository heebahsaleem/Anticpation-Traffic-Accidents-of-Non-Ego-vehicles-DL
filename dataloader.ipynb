{
 "cells": [
  {
   "cell_type": "code",
   "execution_count": 7,
   "id": "09a7e4cc",
   "metadata": {},
   "outputs": [],
   "source": [
    "#Start\n",
    "# In this dataloader_split file, we are trying to split the data into train and test with the proportion of \n",
    "# 70% as train and 30 % as test;\n",
    "# The folder structure have a root folder and further it is divided into - Frames, Detected, Tracked, Tracked_Avails;\n",
    "# Frames -  This folder includes the raw images that needs to be passed when running the project from scratch;\n",
    "# VideoNames as Foldername -> Raw images/Frames of the videos with 10fps;\n",
    "# Detected - This folder includes the Bounding Box coordinates , x, y, cx, cy in the form of text file with the name given\n",
    "# as video_name.txt format;\n",
    "# Tracked - This folder includes the visualization folder and pickle files; visualization folder includes the frames with \n",
    "# Tracked_avails - This folder includes the pickel file only in the format - video_name.pkl\n",
    "import os\n",
    "#os.environ['CUDA_LAUNCH_BLOCKING'] = \"1\"\n",
    "#os.environ[\"CUDA_VISIBLE_DEVICES\"] = \"0\"\n",
    "import pandas as pd\n",
    "import math\n",
    "import os\n",
    "import numpy as np\n",
    "from glob import glob\n",
    "import pickle5 as pickle \n",
    "\n",
    "import torch\n",
    "import pandas as pd\n",
    "from torch.utils import data\n",
    "import matplotlib.pyplot as plt\n",
    "from sklearn.model_selection import train_test_split\n",
    "from itertools import combinations\n",
    "import itertools\n",
    "\n",
    "class dataloader_split(data.Dataset):\n",
    "    \n",
    "    def __init__(self, args, foldertype, phase):       \n",
    "        self.foldertype = foldertype\n",
    "        self.args = args\n",
    "        self.phase=phase\n",
    "        self.tlst=[]\n",
    "        self.all_inputs=[]\n",
    "# Here, we are using the foldertype - [tracked, tracked_avails, detected, frames]\n",
    "\n",
    "        if self.foldertype == self.args.tracked_avails:\n",
    "# Here, we are calling the tracked_avails. Now, the data_root path will be created via path mentioned in .yaml file \n",
    "# Then the sessions will save the list of all the files in the recursive manner i.e., all the files stored in directories\n",
    "# subdirectories will be saved in the list named as sessions.\n",
    "# now the __tracked_avails__() here returns the dictionary that is passed in the dataframe\n",
    "\n",
    "                    if len(self.args.tracked_avails) > 0:\n",
    "                        self.data_root = os.path.join(self.args.data_root, self.args.tracked_avails)\n",
    "                        self.sessions = glob(os.path.join(self.data_root, '**/*.*'), recursive = True)\n",
    "                        self.dataframe = pd.DataFrame(self.__returndict__())\n",
    "                        self.tracked_avails_list = self.__combination__()    \n",
    "                        self.pickle_dataframe_filtered = self.creating_dataframe()\n",
    "                        \n",
    "\n",
    "                    \n",
    "        elif self.foldertype == self.args.tracked:\n",
    "# same as above    \n",
    "# This one is for the tracked folder \n",
    "\n",
    "                    if len(self.args.tracked) > 0:\n",
    "                        self.data_root = os.path.join(self.args.data_root, self.args.tracked)\n",
    "                        self.sessions = glob(os.path.join(self.data_root, '**/*.*'), recursive = True)\n",
    "                        self.dataframe = pd.DataFrame(self.__returndict__())\n",
    " \n",
    "                    \n",
    "        elif self.foldertype == self.args.frames:\n",
    "# same as above             \n",
    "# This one is for the frames folder             \n",
    "            \n",
    "                    if len(self.args.frames) > 0:\n",
    "                        self.data_root = os.path.join(self.args.data_root, self.args.frames)\n",
    "                        self.sessions = glob(os.path.join(self.data_root, '**/*.*'), recursive = True)\n",
    "                        self.dataframe = pd.DataFrame(self.__returndict__())\n",
    "\n",
    "                        \n",
    "        else:\n",
    "# same as above             \n",
    "# This one is for the detected folder             \n",
    "            \n",
    "                    if len(self.args.detected) > 0:\n",
    "                        self.data_root = os.path.join(self.args.data_root, self.args.detected)\n",
    "                        self.sessions = glob(os.path.join(self.data_root, '**/*.*'), recursive = True)\n",
    "                        self.dataframe = pd.DataFrame(self.__returndict__())\n",
    "\n",
    "                        \n",
    "        self.__split__()\n",
    "        \n",
    "        return None\n",
    "                \n",
    "\n",
    "    def __flush_dataframe__(self):\n",
    "        del self.dataframe\n",
    "        del self.train_df\n",
    "        del self.test_df\n",
    "        return None\n",
    "\n",
    "    def __len__(self):\n",
    "        return len(self.all_inputs)\n",
    "    \n",
    "# To return the values as test, train dataframe and list which is actually a combination of pickle files     \n",
    "# Here the values are collected at random basis after shuffling \n",
    "    def __getitem__(self, index):\n",
    "        \n",
    "        input_all_dec_h, target_risk_score, except_pred = self.all_inputs[index]\n",
    "        input_all_dec_h = torch.FloatTensor(input_all_dec_h).to(self.args.device)\n",
    "        target_risk_score = torch.FloatTensor(target_risk_score).to(self.args.device)\n",
    "        #target_risk_score= target_risk_score.view(-1,1)\n",
    "        except_pred = torch.FloatTensor(except_pred).to(self.args.device)\n",
    "        #target_risk_score= torch.squeeze(target_risk_score)\n",
    "\n",
    "        return input_all_dec_h, target_risk_score, except_pred\n",
    "        \n",
    "        \n",
    "# Here all the files data are stored in the form of dictionary as per the requirement.\n",
    "# Example if there is tracked avails pickle file then its video name, file path and file type are stored in the dictionary\n",
    "# Then it is called in the init () to initialise the dataframe \n",
    "\n",
    "\n",
    "    def __returndict__(self):\n",
    "        lst = []\n",
    "        file_type = []\n",
    "        if self.foldertype == self.args.tracked_avails:\n",
    "            for sessions in self.sessions:\n",
    "                if sessions.endswith('.pkl'):\n",
    "                    file_type.append('pkl')\n",
    "                lst.append(sessions.split('\\\\')[-2])        # Video names due to the folders as stated here \n",
    "\n",
    "        elif self.foldertype == self.args.tracked:\n",
    "             for sessions in self.sessions:\n",
    "                if sessions.endswith('.jpg') or sessions.endswith('.jpeg') or sessions.endswith('.png'): \n",
    "                    file_type.append('Images')\n",
    "                    lst.append(sessions.split('\\\\')[-3])\n",
    "\n",
    "                elif sessions.endswith('.pkl'):\n",
    "                    file_type.append('pkl')\n",
    "                    lst.append(sessions.split('\\\\')[-2])       # Video names due to the folders as stated here \n",
    "                    \n",
    "        elif self.foldertype == self.args.frames:\n",
    "            for sessions in self.sessions:\n",
    "                if sessions.endswith('.jpg') or sessions.endswith('.jpeg') or sessions.endswith('.png'):\n",
    "                    file_type.append(\"image\") \n",
    "                lst.append(sessions.split('\\\\')[-2])\n",
    "        \n",
    "        else:\n",
    "            for sessions in self.sessions:\n",
    "                if sessions.endswith(\".txt\"):\n",
    "                    file_type.append('Text')\n",
    "                lst.append(sessions.split('.')[-2])\n",
    "                \n",
    "        dict = {'File_Path' : self.sessions,\n",
    "                'Video_Name': lst,\n",
    "                'File Type' : file_type\n",
    "               }\n",
    "        #print(\"return dict\")\n",
    "        return (dict)\n",
    "\n",
    "    def fiveframes(self):\n",
    "        #excel1=pd.read_excel(\"C:/Users/Heebah Saleem/Desktop/df1_common_frames.xlsx\")\n",
    "        #self.train_df= self.train_df[(self.train_df['accident_frame_common_frames']!=1000)& (self.train_df['accident_frame_common_frames']!=-1)]\n",
    "        #Col: Flag. Flag = 0 means >=5 else Flag =1 means <5\n",
    "        #1. dic: count and flag \n",
    "        #2 count: >4 flag =1 else 0\n",
    "\n",
    "        flag = []\n",
    "        count = []\n",
    "        for i in range(len(self.train_df['common_frames'])):\n",
    "                        list = str(self.train_df['common_frames'].iloc[i]).split(',')\n",
    "                        #print(list)\n",
    "                        count.append(len(list))\n",
    "                        flag.append(1 if len(list)>4 else 0)\n",
    "        #self.train_df['count']=count\n",
    "        self.train_df['flag']=flag\n",
    "        self.train_df=self.train_df.where(self.train_df['flag']==1)\n",
    "        #print(len(self.train_df))\n",
    "        self.train_df=self.train_df.dropna()\n",
    "        #print(len(self.train_df))\n",
    "        #print(\"chal gaya\")\n",
    "        return 0\n",
    "\n",
    "    def __split__(self):\n",
    "\n",
    "# This function will split the dataframe['Video_Name'] column into train, test\n",
    "# As, self.dataframe.Video_Name.unique() : represents the selecting the unique values from a column in the dataframe \n",
    "# Reason : As dataframe is a form of table therefore, the mapping will be 1 to many. Thus, at column Video_Name if there \n",
    "# is a video name as abc then it will be repeating multiple times with respect to the fellow file associated to it in the \n",
    "# file_name column\n",
    "# Therefore, when we do the train_test_split, it will fail to split the videonames by 70 : 30 percentage uniquely due to \n",
    "# the redundancy in the column. \n",
    "# Here, train and test stores the list of videonames in the 70:30 proportion\n",
    "        if args.tracked_avails:\n",
    "                train, test = train_test_split(self.pickle_dataframe_filtered.video_names.unique(), test_size = 0.3)\n",
    "                if self.phase == 'Train':\n",
    "                    self.train_df = self.pickle_dataframe_filtered.where(self.pickle_dataframe_filtered['video_names'].isin(train))\n",
    "                    self.train_df = self.train_df.dropna()\n",
    "                    #print(len(self.train_df))\n",
    "                    #print(type(self.train_df['accident_frame_common_frames'].iloc[0]))\n",
    "                    \n",
    "                    \n",
    "                    #self.train_df.to_excel(r'C:\\DoTA_Avail_220726\\self_train_df.xlsx', index = False)\n",
    "                    for i in range(len(self.train_df['accident_frame_common_frames'])):\n",
    "                            k = self.train_df['accident_frame_common_frames'].iloc[i]\n",
    "                            t=str(k).split('.')[0]\n",
    "                            t=t.replace(\"[\",\"\")\n",
    "                            self.train_df['accident_frame_common_frames'].iloc[i]= int(t)\n",
    "                    \n",
    "                    #620positive and 700 negative data\n",
    "                    positive_df=self.train_df[(self.train_df['accident_frame_common_frames']!=1000)& (self.train_df['accident_frame_common_frames']!=-1)]\n",
    "                    #positive_df.to_excel(r'C:\\DoTA_Avail_220726\\positive_train_df.xlsx', index = False)\n",
    "                    negative_df=self.train_df[(self.train_df['accident_frame_common_frames']==1000) | (self.train_df['accident_frame_common_frames']==-1)]\n",
    "                    negative_df.groupby('video_names').nth(0)\n",
    "                    #negative_df.to_excel(r'C:\\DoTA_Avail_220726\\negative_train_df.xlsx', index = False)\n",
    "                    #then append\n",
    "                    #print(\"positive df\",len(positive_df))\n",
    "                    #print(\"negative df\",len(negative_df))\n",
    "                    self.train_df = positive_df.append(negative_df)\n",
    "                    #print(\"Before 5 frames\", len(self.train_df))\n",
    "                    self.fiveframes()\n",
    "                    #print(\"After 5 frames\", len(self.train_df))\n",
    "                    \n",
    "                    \n",
    "                   \n",
    "                    \n",
    "                    \n",
    "                    self.train_df = self.train_df.sample(frac=1)\n",
    "                    #print(len(self.train_df))\n",
    "                    for i in range(0,len(self.train_df)):\n",
    "                        z, target_risk_score= self.extraction(self.train_df['values_names'].iloc[i][0], self.train_df['values_names'].iloc[i][1], self.train_df['common_frames'].iloc[i], self.train_df['video_names'].iloc[i])                      \n",
    "                        #print(type(z),type(target_risk_score))\n",
    "                        except_pred = np.ones(z.shape[0], dtype = float)\n",
    "                        self.all_inputs.append([z, target_risk_score,except_pred])\n",
    "\n",
    "            \n",
    "                    \n",
    "                else:\n",
    "                    self.test_df  = self.pickle_dataframe_filtered.where(self.pickle_dataframe_filtered['video_names'].isin(test))\n",
    "                    self.test_df  = self.test_df.dropna()\n",
    "                    \n",
    "                    #620positive and 700 negative data\n",
    "                    positive_df=self.test_df[(self.test_df['accident_frame_common_frames']!=1000)& (self.test_df['accident_frame_common_frames']!=-1)]\n",
    "                    negative_df=self.test_df[(self.test_df['accident_frame_common_frames']==1000) | (self.test_df['accident_frame_common_frames']==-1)].head(700)\n",
    "                    positive_df.to_excel(r'C:\\DoTA_Avail_220726\\positive_test_df.xlsx', index = False)\n",
    "                    negative_df.to_excel(r'C:\\DoTA_Avail_220726\\negative_test_df.xlsx', index = False)\n",
    "                    #then append\n",
    "                    self.test_df = positive_df.append(negative_df)\n",
    "                    \n",
    "                    self.test_df = self.test_df.sample(frac=1)\n",
    "                    for i in range(0,len(self.test_df)):\n",
    "                        z, target_risk_score= self.extraction(self.test_df['values_names'].iloc[i][0], self.test_df['values_names'].iloc[i][1], self.test_df['common_frames'].iloc[i], self.test_df['video_names'].iloc[i])\n",
    "                        except_pred = np.ones(z.shape[0], dtype = float)\n",
    "                        self.all_inputs.append([z, target_risk_score,except_pred])\n",
    "                    self.test_df.to_excel(r'C:\\DoTA_Avail_220726\\self_test_df.xlsx', index = False)\n",
    "\n",
    "        else:\n",
    "            train, test = train_test_split(self.dataframe.Video_Name.unique(), test_size = 0.3)\n",
    "# here the dataframe is filtered with by comparing all the values stored in the train. Thus only those values will be kept\n",
    "# that are stored in train list and others will be dropped using .dropna()\n",
    "        \n",
    "        \n",
    "            self.train_df = self.dataframe.where(self.dataframe['Video_Name'].isin(train))\n",
    "            self.train_df = self.train_df.dropna()\n",
    "            self.test_df  = self.dataframe.where(self.dataframe['Video_Name'].isin(test))\n",
    "            self.test_df  = self.test_df.dropna()\n",
    "            \n",
    " # same is implemented for the test_df as well \n",
    "\n",
    "        return None\n",
    "\n",
    "\n",
    "# Here, the combination of pickle files into groups are created \n",
    "    def __combination__(self):    \n",
    "        #print(\"combination\")\n",
    "        h={} \n",
    "        p={} \n",
    "        b = 2 \n",
    "        lst = [] \n",
    "        tlst = []\n",
    "        vlst = []\n",
    "        for subdir, dirs, files in os.walk(os.path.join(self.args.data_root, self.args.tracked_avails)): \n",
    "            for file in files: \n",
    "                key, value = os.path.basename(subdir), file \n",
    "                h.setdefault(key, []).append(value) \n",
    "        #print(\"combination\")\n",
    "        for i in h.keys(): \n",
    "            c = list(itertools.combinations(h[i], b))\n",
    "            for t in c:\n",
    "                tlst.append(t)\n",
    "                vlst.append(i)\n",
    "        \n",
    "        p = {\n",
    "            'video_names': vlst,\n",
    "            'file_names' : tlst}         \n",
    "        #print('Tracked Avails - Combinations')\n",
    "        #print(\"combination\")\n",
    "        return (p)\n",
    "    \n",
    "    \n",
    "    \n",
    "    def creating_dataframe(self):\n",
    "        p = self.tracked_avails_list\n",
    "    \n",
    "# creating another list of video_names, object1, object2 for the dictionary:\n",
    "    \n",
    "    \n",
    "    \n",
    "        obj1 =[]\n",
    "        obj2 =[]\n",
    "    \n",
    "        for files in p['file_names']:\n",
    "            k = files\n",
    "            obj1.append(k[0].split('_')[2].split('.pkl')[0])\n",
    "            obj2.append(k[1].split('_')[2].split('.pkl')[0])\n",
    "\n",
    "\n",
    "        dict  = {\"video_names\": p['video_names'],\n",
    "                    \"obj1\": obj1,\n",
    "                    \"obj2\": obj2,\n",
    "                    \"values_names\": p['file_names']}\n",
    "\n",
    "        \n",
    "# Here all the object id and video names are stored in the dataframe \n",
    "\n",
    "\n",
    "        pickle_dataframe = pd.DataFrame(dict)\n",
    "        pickle_dataframe['obj1'] = pickle_dataframe['obj1'].astype('int32')\n",
    "        pickle_dataframe['obj2'] = pickle_dataframe['obj2'].astype('int32')\n",
    "        klst = []\n",
    "        flst = []\n",
    "        for i in range(0, len(pickle_dataframe)):\n",
    "            klst.append(self.return_common_frames(pickle_dataframe['values_names'][i][0], pickle_dataframe['values_names'][i][1], pickle_dataframe['video_names'][i], args.tracked_avails ,args.data_root))\n",
    "            flst.append(self.return_common_frames_accident_frame(pickle_dataframe['values_names'][i][0], pickle_dataframe['values_names'][i][1], pickle_dataframe['video_names'][i], args.tracked_avails ,args.data_root))\n",
    "\n",
    "        pickle_dataframe['common_frames'] = klst\n",
    "        pickle_dataframe['accident_frame_common_frames'] = flst\n",
    "        #print('creating df')\n",
    "        #return (self.annotation_file( os.path.join(r'E:\\DoTA_Avail_220726\\NEgo', \"DoTA_Non_Ego_Done_220216_relabelled.xlsx\"), pickle_dataframe))\n",
    "        pickle_dataframe=pickle_dataframe[pickle_dataframe['common_frames'].notna()]\n",
    "        return (pickle_dataframe)\n",
    "    \n",
    "\n",
    "\n",
    "\n",
    "# This fucntion will extract all the common frames_id if exists between the two object pickle files collected \n",
    "# from the tracked_avails\n",
    "# This function is called in the creating_dataframe function in line no.46\n",
    "# Returns a list of particular common frame id and stored in the pickle_dataframe['common_frames'] \n",
    "    def return_common_frames(self, filename_1, filename_2, video_name, folder_name, root_folder):\n",
    "    \n",
    "        lst = []\n",
    "#   file = pickle_dataframe['values_names'][0][0]\n",
    "#   part = os.path.join(args.data_root, args.tracked)\n",
    "#   file  = os.path.join(part, pickle_dataframe['video_names'][0], file)\n",
    "#   print(file)\n",
    "    \n",
    "        path_1 = os.path.join(root_folder, folder_name, video_name, filename_1)\n",
    "        path_2 = os.path.join(root_folder, folder_name, video_name, filename_2)\n",
    "    \n",
    "        with open(path_1,'rb') as f:\n",
    "            x = pickle.load(f)\n",
    "        \n",
    "        with open(path_2, 'rb') as f:\n",
    "            y = pickle.load(f)\n",
    "    \n",
    "#   print(\"x:\", x['frame_id'], \"y:\", y['frame_id'])\n",
    "        for item in set(x['frame_id']).intersection(y['frame_id']):\n",
    "            if item is not None:\n",
    "                lst.append(item)\n",
    "            else:\n",
    "                continue\n",
    "          \n",
    "    \n",
    "        if len(lst) < 1 :\n",
    "             return None \n",
    "        else :\n",
    "            return lst\n",
    "\n",
    "        \n",
    "        \n",
    "    def return_common_frames_accident_frame(self, filename_1, filename_2, video_name, folder_name, root_folder):\n",
    "    \n",
    "        \n",
    "        accident_frame_list=[]\n",
    "#   file = pickle_dataframe['values_names'][0][0]\n",
    "#   part = os.path.join(args.data_root, args.tracked)\n",
    "#   file  = os.path.join(part, pickle_dataframe['video_names'][0], file)\n",
    "#   print(file)\n",
    "    \n",
    "        path_1 = os.path.join(root_folder, folder_name, video_name, filename_1)\n",
    "        path_2 = os.path.join(root_folder, folder_name, video_name, filename_2)\n",
    "    \n",
    "        with open(path_1,'rb') as f:\n",
    "            x = pickle.load(f)\n",
    "        \n",
    "        with open(path_2, 'rb') as f:\n",
    "            y = pickle.load(f)\n",
    "    \n",
    "#   print(\"x:\", x['frame_id'], \"y:\", y['frame_id'])\n",
    "        \n",
    "        #set1 = list(int(x['accident_frame_id']))\n",
    "        #set2 = list(int(y['accident_frame_id']))\n",
    "        #print(set(set1).intersection(set2))\n",
    "        #print(x['accident_frame_id'], y['accident_frame_id'])\n",
    "        #for frame in set(x['accident_frame_id']).intersection(y['accident_frame_id']):\n",
    "        if x['accident_frame_id'] == y['accident_frame_id'] :\n",
    "            accident_frame_list.append(x['accident_frame_id'])\n",
    "\n",
    "            #if frame is not None:\n",
    "            #    accident_frame_list.append(frame)\n",
    "            #else:\n",
    "            #    continue        \n",
    "    \n",
    "        if len(accident_frame_list) < 1:\n",
    "             return None \n",
    "        else :\n",
    "            return accident_frame_list\n",
    "\n",
    "\n",
    "# This file is manually labelled and used as a filter for the extraction of accidental groups \n",
    "# Thus the original dataframe underwent left join with the excel annotation file \n",
    "# Left Join - When file X is left joined with File Y, it only shows all those values that are in X and in (X && Y)\n",
    "# if left join is done on X with respect to Y.\n",
    "# Therefore, all the values that are stored in excel file will be filtered with the pickle dataframe rest all the \n",
    "# drop.na() is implemented to deleted Nan Values there \n",
    "# At the end it will return pickle_dataframe_filtered\n",
    "\n",
    "    def annotation_file(self, csv_file_path, pickle_dataframe):\n",
    "    \n",
    "        excel_df = pd.read_excel(csv_file_path, sheet_name=1)\n",
    "        filter =  (excel_df['acc_obj_id1'] != 0) & (excel_df['acc_obj_id2'] != 0) \n",
    "        excel_df = excel_df.where(filter).dropna()\n",
    "\n",
    "        excel_df['acc_obj_id1'] = excel_df['acc_obj_id1'].astype(int)\n",
    "        excel_df['acc_obj_id2'] = excel_df['acc_obj_id2'].astype(int)\n",
    "    \n",
    "        pickle_dataframe_filtered = pd.merge(pickle_dataframe, excel_df, left_on=['video_names','obj1', 'obj2'], right_on = ['Name','acc_obj_id1', 'acc_obj_id2'], how='left')\n",
    "        pickle_dataframe_filtered = pickle_dataframe_filtered.dropna()\n",
    "\n",
    "        #print('pickle_dataframe')\n",
    "        return pickle_dataframe_filtered\n",
    "   \n",
    "\n",
    "    \n",
    "    \n",
    "# We need the common frame_ids, their location and need to extact the arrays-list of hidden states from that location \n",
    "# From here all the below written functions will be called in the __get_item__() because here we are collecting the \n",
    "# the list of all the hidden states generated in the system\n",
    "    def extraction(self, file_name_1, file_name_2,  common_frames, video_names):\n",
    "        #print('filename1:', file_name_1, 'filename2:', file_name_2)\n",
    "            \n",
    "#   Now we will create a path for the Hidden state \n",
    "\n",
    "        file_path_1 = os.path.join(self.args.data_root, self.args.hiddens, file_name_1)\n",
    "        file_path_2 = os.path.join(self.args.data_root, args.hiddens, file_name_2)\n",
    "\n",
    "#   File path generated \n",
    "\n",
    "# Now we will open the hidden state based pickle file that needs to be run \n",
    "        with open(file_path_1,'rb') as f:\n",
    "            hidden_x = pickle.load(f)\n",
    "            \n",
    "            \n",
    "        with open(file_path_2,'rb') as f:\n",
    "            hidden_y = pickle.load(f)\n",
    "#Target risk score:\n",
    "        if (hidden_x['target_risk_score'][0] > 0.0 and hidden_y['target_risk_score'][0] > 0.0):\n",
    "            target_risk_score = np.array([1.0])\n",
    "        else:\n",
    "            target_risk_score = np.array([0.0])\n",
    "        #if (hidden_x['target_risk_score'] > hidden_y['target_risk_score']):\n",
    "        #    target_risk_score = hidden_x['target_risk_score']\n",
    "        #else:\n",
    "        #    target_risk_score = hidden_y['target_risk_score']    \n",
    "        \n",
    "\n",
    "# Extracting the file path of tracked avails \n",
    "        file_path_tracked_avail_1 = os.path.join(self.args.data_root, self.args.tracked_avails, video_names,file_name_1)\n",
    "        file_path_tracked_avail_2 = os.path.join(self.args.data_root, self.args.tracked_avails, video_names, file_name_2)\n",
    "\n",
    "\n",
    "# First Tracked avail pickle file to be imported\n",
    "        with open(file_path_tracked_avail_1,'rb') as f:\n",
    "            file_path_tracked_avail_pickle_1 = pickle.load(f)\n",
    "\n",
    "\n",
    "# Second tracked avail pickle file to be imported         \n",
    "        with open(file_path_tracked_avail_2,'rb') as f:\n",
    "            file_path_tracked_avail_pickle_2 = pickle.load(f)\n",
    "        \n",
    "\n",
    "        file_1_lst = []\n",
    "        file_2_lst = []\n",
    "\n",
    "# Position of common frames are extracted from the tracked avails pickle files\n",
    "        for i in range(len(common_frames)):\n",
    "            for j in file_path_tracked_avail_pickle_1['frame_id']:\n",
    "                if common_frames[i] == j:\n",
    "                    file_1_lst.append(list(file_path_tracked_avail_pickle_1['frame_id']).index(j))\n",
    "\n",
    "        for i in range(len(common_frames)):\n",
    "            for j in file_path_tracked_avail_pickle_2['frame_id']:\n",
    "                if common_frames[i] == j:\n",
    "                    file_2_lst.append(list(file_path_tracked_avail_pickle_2['frame_id']).index(j))\n",
    "    \n",
    "        return (self.appending_hidden_states( hidden_x, hidden_y, common_frames, file_1_lst, file_2_lst), target_risk_score)\n",
    "    \n",
    "     \n",
    "\n",
    "# Appending the hidden states into the array and returning the appended array from the same \n",
    "# The attributes that have been taken into consideration are the x, y as the pickle files of hidden states,\n",
    "# common frames from the data_frame and list1 and list 2 collected from the extraction function is passed here\n",
    "# It returns the list of appended ndarray in the form of (x,10,2048) shape i.e., z \n",
    "\n",
    "    def appending_hidden_states(self, x, y, common_frames, lst_1, lst_2):\n",
    "        #print(x['hidden_state'][0],lst_1,lst_2)\n",
    "        #min_range = min(len(x['hidden_state']), len(y['hidden_state']))\n",
    "        min_range=min(len(lst_1), len(lst_2))\n",
    "        z = np.zeros([min_range, len(x['hidden_state'][0]), 2048], dtype = np.float64)\n",
    "\n",
    "        for k in range(min_range):\n",
    "            for i in range(0, len(x['hidden_state'][0])):\n",
    "                z[k][i] = list(np.append(x['hidden_state'][lst_1[k]][i], y['hidden_state'][lst_2[k]][i]))\n",
    "    \n",
    "    \n",
    "        return z    \n",
    "    \n",
    "    "
   ]
  },
  {
   "cell_type": "code",
   "execution_count": 13,
   "id": "9f338d94",
   "metadata": {},
   "outputs": [],
   "source": [
    "# %load training.py\n",
    "import os\n",
    "import numpy as np\n",
    "import time\n",
    "\n",
    "import torch\n",
    "from torch import optim\n",
    "from torch.utils import data\n",
    "from torchsummaryX import summary\n",
    "\n",
    "from loss import train_loss_cal, val_loss_cal\n",
    "from models import AP\n",
    "\n",
    "#from .utils import dataloaderHidden\n",
    "\n",
    "from tensorboardX import SummaryWriter\n",
    "import pandas as pd\n",
    "\n",
    "\n",
    "def train(args):\n",
    "    torch.cuda.set_device(args.device)\n",
    "    args.dec_hidden_size = args.box_enc_size + args.dm_enc_size\n",
    "\n",
    "    print(\">> Setting the Accident Prediction model ... \")\n",
    "    AP_model = AP(args).to(args.device)\n",
    "    all_params = AP_model.parameters()\n",
    "    optimizer = optim.Adam(all_params, lr=args.lr)\n",
    "\n",
    "    dataloader_params ={\n",
    "            \"batch_size\": args.batch_size,\n",
    "            \"shuffle\": args.shuffle\n",
    "        }\n",
    "\n",
    "    val_set = dataloader_split(args, args.tracked_avails, 'Test')\n",
    "    #print(\">> Number of validation samples:\", val_set.__len__())\n",
    "    val_gen = data.DataLoader(val_set, **dataloader_params)\n",
    "\n",
    "    print(\">> Check the Model's architecture\")\n",
    "    summary(AP_model,\n",
    "            # torch.zeros(1, args.segment_len, args.pred_timesteps, args.dec_hidden_size).to(device)\n",
    "            torch.zeros(1, args.segment_len, args.pred_timesteps,  args.dec_hidden_size).to(args.device)\n",
    "            )\n",
    "\n",
    "    # MODEL TRAINING\n",
    "    best_val_ap = None\n",
    "    best_val_hm = None\n",
    "    before_ATTC = 0.\n",
    "\n",
    "    inform = np.zeros((args.train_epoch, 6))\n",
    "\n",
    "    checkpoint_folder = os.path.join(args.checkpoint, args.trial_name)\n",
    "    if not os.path.exists(checkpoint_folder):\n",
    "        os.makedirs(checkpoint_folder)\n",
    "\n",
    "    bap_model_name = 'best_AP_model_AP.pt'\n",
    "    bap_full = os.path.join(checkpoint_folder, bap_model_name)\n",
    "\n",
    "    #bhm_model_name = 'best_AP_model_HM.pt'\n",
    "    bhm_model_name = args.best_harmonic_model\n",
    "    bhm_full = os.path.join(checkpoint_folder, bhm_model_name)\n",
    "\n",
    "    summary_folder = os.path.join(args.summary, args.trial_name)\n",
    "    if not os.path.exists(summary_folder):\n",
    "        os.makedirs(summary_folder)\n",
    "    print(\">> Train data root:\", os.path.join(args.data_root, args.train_root))\n",
    "    writer = SummaryWriter(summary_folder)\n",
    "\n",
    "    for epoch in range(1, args.train_epoch+1):\n",
    "        print(\"\\n\")\n",
    "        print(\"=====================================\")\n",
    "        print(\"// Epoch :\", epoch)\n",
    "        # regenerate the training dataset\n",
    "        train_set = dataloader_split(args, args.tracked_avails, 'Train')\n",
    "        train_gen = data.DataLoader(train_set, **dataloader_params)\n",
    "        #print(\" Number of training samples:\", train_set.__len__())\n",
    "\n",
    "        start = time.time()\n",
    "\n",
    "        #===== train\n",
    "        train_loss, train_AP, train_ATTC = train_loss_cal(epoch, AP_model, optimizer, train_gen, before_ATTC, verbose=True)\n",
    "        train_hm = 2.0 * train_AP * train_ATTC / (train_AP + train_ATTC)\n",
    "        writer.add_scalar('data/train_loss', train_loss, epoch)\n",
    "        writer.add_scalar('data/train_AP', train_AP, epoch)\n",
    "        writer.add_scalar('data/train_ATTC', train_ATTC, epoch)\n",
    "        writer.add_scalar('data/train_Harmonic', train_hm, epoch)\n",
    "        inform[epoch-1,0] = train_AP\n",
    "        inform[epoch-1,1] = train_ATTC\n",
    "        inform[epoch-1,2] = train_hm\n",
    "\n",
    "        #===== validation\n",
    "            val_loss, val_AP, val_ATTC = val_loss_cal(epoch, AP_model, val_gen, before_ATTC, verbose=True)\n",
    "        val_hm = 2.0 * val_AP * val_ATTC / (val_AP + val_ATTC)\n",
    "        writer.add_scalar('data/val_loss', val_loss, epoch)\n",
    "        writer.add_scalar('data/val_AP', val_AP, epoch)\n",
    "        writer.add_scalar('data/val_ATTC', val_ATTC, epoch)\n",
    "        writer.add_scalar('data/val_Harmonic', val_hm, epoch)\n",
    "        inform[epoch-1,3] = val_AP\n",
    "        inform[epoch-1,4] = val_ATTC\n",
    "        inform[epoch-1,5] = val_hm\n",
    "\n",
    "        before_ATTC = train_ATTC\n",
    "\n",
    "\n",
    "        # print time\n",
    "        elipse = time.time() - start\n",
    "        print(\"Elipse: \", elipse)\n",
    "\n",
    "\n",
    "        if best_val_ap is None:\n",
    "            best_val_ap = val_AP\n",
    "            torch.save(AP_model.state_dict(), bap_full)\n",
    "        elif best_val_ap < val_AP:\n",
    "            best_val_ap = val_AP\n",
    "            torch.save(AP_model.state_dict(), bap_full)\n",
    "\n",
    "        if best_val_hm is None:\n",
    "            best_val_hm = val_hm\n",
    "            torch.save(AP_model.state_dict(), bhm_full)\n",
    "        elif best_val_hm < val_hm:\n",
    "            best_val_hm = val_hm\n",
    "            torch.save(AP_model.state_dict(), bhm_full)\n",
    "\n",
    "        # save checkpoint per epoch\n",
    "        save_name = 'epoch_{:03d}'.format(epoch) + '.pt'\n",
    "        full = os.path.join(checkpoint_folder, save_name)\n",
    "        torch.save(AP_model.state_dict(), full)\n",
    "\n",
    "    df = pd.DataFrame(inform)\n",
    "    df.to_csv(os.path.join(checkpoint_folder, 'train_val_inform.csv'), index=False)\n",
    "\n"
   ]
  },
  {
   "cell_type": "code",
   "execution_count": 14,
   "id": "0131bd8f",
   "metadata": {},
   "outputs": [
    {
     "name": "stdout",
     "output_type": "stream",
     "text": [
      ">> Setting the Accident Prediction model ... \n",
      ">> Check the Model's architecture\n"
     ]
    },
    {
     "name": "stderr",
     "output_type": "stream",
     "text": [
      "C:\\Users\\user\\.conda\\envs\\heebah_non_ego\\lib\\site-packages\\torchsummaryX\\torchsummaryX.py:101: FutureWarning: Dropping of nuisance columns in DataFrame reductions (with 'numeric_only=None') is deprecated; in a future version this will raise TypeError.  Select only valid columns before calling the reduction.\n",
      "  df_sum = df.sum()\n"
     ]
    },
    {
     "name": "stdout",
     "output_type": "stream",
     "text": [
      "==============================================================================\n",
      "                               Kernel Shape  Output Shape    Params Mult-Adds\n",
      "Layer                                                                        \n",
      "0_avgpool                                 -  [1, 2048, 1]         -         -\n",
      "1_fc_layer                      [2048, 128]      [1, 128]  262.272k  262.144k\n",
      "2_feature_to_output.Linear_0       [128, 1]        [1, 1]     129.0     128.0\n",
      "3_feature_to_output.Sigmoid_1             -        [1, 1]         -         -\n",
      "4_avgpool                                 -  [1, 2048, 1]         -         -\n",
      "5_fc_layer                      [2048, 128]      [1, 128]         -  262.144k\n",
      "6_feature_to_output.Linear_0       [128, 1]        [1, 1]         -     128.0\n",
      "7_feature_to_output.Sigmoid_1             -        [1, 1]         -         -\n",
      "8_avgpool                                 -  [1, 2048, 1]         -         -\n",
      "9_fc_layer                      [2048, 128]      [1, 128]         -  262.144k\n",
      "10_feature_to_output.Linear_0      [128, 1]        [1, 1]         -     128.0\n",
      "11_feature_to_output.Sigmoid_1            -        [1, 1]         -         -\n",
      "12_avgpool                                -  [1, 2048, 1]         -         -\n",
      "13_fc_layer                     [2048, 128]      [1, 128]         -  262.144k\n",
      "14_feature_to_output.Linear_0      [128, 1]        [1, 1]         -     128.0\n",
      "15_feature_to_output.Sigmoid_1            -        [1, 1]         -         -\n",
      "16_avgpool                                -  [1, 2048, 1]         -         -\n",
      "17_fc_layer                     [2048, 128]      [1, 128]         -  262.144k\n",
      "18_feature_to_output.Linear_0      [128, 1]        [1, 1]         -     128.0\n",
      "19_feature_to_output.Sigmoid_1            -        [1, 1]         -         -\n",
      "20_avgpool                                -  [1, 2048, 1]         -         -\n",
      "21_fc_layer                     [2048, 128]      [1, 128]         -  262.144k\n",
      "22_feature_to_output.Linear_0      [128, 1]        [1, 1]         -     128.0\n",
      "23_feature_to_output.Sigmoid_1            -        [1, 1]         -         -\n",
      "24_avgpool                                -  [1, 2048, 1]         -         -\n",
      "25_fc_layer                     [2048, 128]      [1, 128]         -  262.144k\n",
      "26_feature_to_output.Linear_0      [128, 1]        [1, 1]         -     128.0\n",
      "27_feature_to_output.Sigmoid_1            -        [1, 1]         -         -\n",
      "28_avgpool                                -  [1, 2048, 1]         -         -\n",
      "29_fc_layer                     [2048, 128]      [1, 128]         -  262.144k\n",
      "30_feature_to_output.Linear_0      [128, 1]        [1, 1]         -     128.0\n",
      "31_feature_to_output.Sigmoid_1            -        [1, 1]         -         -\n",
      "32_avgpool                                -  [1, 2048, 1]         -         -\n",
      "33_fc_layer                     [2048, 128]      [1, 128]         -  262.144k\n",
      "34_feature_to_output.Linear_0      [128, 1]        [1, 1]         -     128.0\n",
      "35_feature_to_output.Sigmoid_1            -        [1, 1]         -         -\n",
      "36_avgpool                                -  [1, 2048, 1]         -         -\n",
      "37_fc_layer                     [2048, 128]      [1, 128]         -  262.144k\n",
      "38_feature_to_output.Linear_0      [128, 1]        [1, 1]         -     128.0\n",
      "39_feature_to_output.Sigmoid_1            -        [1, 1]         -         -\n",
      "40_avgpool                                -  [1, 2048, 1]         -         -\n",
      "41_fc_layer                     [2048, 128]      [1, 128]         -  262.144k\n",
      "42_feature_to_output.Linear_0      [128, 1]        [1, 1]         -     128.0\n",
      "43_feature_to_output.Sigmoid_1            -        [1, 1]         -         -\n",
      "44_avgpool                                -  [1, 2048, 1]         -         -\n",
      "45_fc_layer                     [2048, 128]      [1, 128]         -  262.144k\n",
      "46_feature_to_output.Linear_0      [128, 1]        [1, 1]         -     128.0\n",
      "47_feature_to_output.Sigmoid_1            -        [1, 1]         -         -\n",
      "48_avgpool                                -  [1, 2048, 1]         -         -\n",
      "49_fc_layer                     [2048, 128]      [1, 128]         -  262.144k\n",
      "50_feature_to_output.Linear_0      [128, 1]        [1, 1]         -     128.0\n",
      "51_feature_to_output.Sigmoid_1            -        [1, 1]         -         -\n",
      "52_avgpool                                -  [1, 2048, 1]         -         -\n",
      "53_fc_layer                     [2048, 128]      [1, 128]         -  262.144k\n",
      "54_feature_to_output.Linear_0      [128, 1]        [1, 1]         -     128.0\n",
      "55_feature_to_output.Sigmoid_1            -        [1, 1]         -         -\n",
      "56_avgpool                                -  [1, 2048, 1]         -         -\n",
      "57_fc_layer                     [2048, 128]      [1, 128]         -  262.144k\n",
      "58_feature_to_output.Linear_0      [128, 1]        [1, 1]         -     128.0\n",
      "59_feature_to_output.Sigmoid_1            -        [1, 1]         -         -\n",
      "60_avgpool                                -  [1, 2048, 1]         -         -\n",
      "61_fc_layer                     [2048, 128]      [1, 128]         -  262.144k\n",
      "62_feature_to_output.Linear_0      [128, 1]        [1, 1]         -     128.0\n",
      "63_feature_to_output.Sigmoid_1            -        [1, 1]         -         -\n",
      "------------------------------------------------------------------------------\n",
      "                         Totals\n",
      "Total params           262.401k\n",
      "Trainable params       262.401k\n",
      "Non-trainable params        0.0\n",
      "Mult-Adds             4.196352M\n",
      "==============================================================================\n",
      ">> Train data root: C:/DoTA_Avail_220726/NEgo/train\n",
      "\n",
      "\n",
      "=====================================\n",
      "// Epoch : 1\n"
     ]
    },
    {
     "name": "stderr",
     "output_type": "stream",
     "text": [
      "C:\\Users\\user\\.conda\\envs\\heebah_non_ego\\lib\\site-packages\\pandas\\core\\indexing.py:1732: SettingWithCopyWarning: \n",
      "A value is trying to be set on a copy of a slice from a DataFrame\n",
      "\n",
      "See the caveats in the documentation: https://pandas.pydata.org/pandas-docs/stable/user_guide/indexing.html#returning-a-view-versus-a-copy\n",
      "  self._setitem_single_block(indexer, value, name)\n"
     ]
    },
    {
     "name": "stdout",
     "output_type": "stream",
     "text": [
      " Train ...\n"
     ]
    },
    {
     "name": "stderr",
     "output_type": "stream",
     "text": [
      "100%|██████████| 8093/8093 [03:03<00:00, 44.03it/s]\n"
     ]
    },
    {
     "name": "stdout",
     "output_type": "stream",
     "text": [
      "-- AP on Train dataset : 0.15655877014804215\n",
      "-- ATTC on Train dataset : 1.2360133641355007\n",
      " Validation ...\n"
     ]
    },
    {
     "name": "stderr",
     "output_type": "stream",
     "text": [
      "100%|██████████| 11085/11085 [01:29<00:00, 123.74it/s]\n"
     ]
    },
    {
     "name": "stdout",
     "output_type": "stream",
     "text": [
      "-- AP on Validation dataset : 0.3084556585720091\n",
      "-- ATTC on Validation dataset : 0.7534774131361466\n",
      "Elipse:  529.7760274410248\n",
      "\n",
      "\n",
      "=====================================\n",
      "// Epoch : 2\n",
      " Train ...\n"
     ]
    },
    {
     "name": "stderr",
     "output_type": "stream",
     "text": [
      "100%|██████████| 7566/7566 [02:54<00:00, 43.44it/s]\n"
     ]
    },
    {
     "name": "stdout",
     "output_type": "stream",
     "text": [
      "-- AP on Train dataset : 0.2598330104379382\n",
      "-- ATTC on Train dataset : 1.0380333130252168\n",
      " Validation ...\n"
     ]
    },
    {
     "name": "stderr",
     "output_type": "stream",
     "text": [
      "100%|██████████| 11085/11085 [01:32<00:00, 119.31it/s]\n"
     ]
    },
    {
     "name": "stdout",
     "output_type": "stream",
     "text": [
      "-- AP on Validation dataset : 0.34073036366660064\n",
      "-- ATTC on Validation dataset : 0.7194448539651324\n",
      "Elipse:  543.83797955513\n",
      "\n",
      "\n",
      "=====================================\n",
      "// Epoch : 3\n",
      " Train ...\n"
     ]
    },
    {
     "name": "stderr",
     "output_type": "stream",
     "text": [
      "100%|██████████| 6992/6992 [02:33<00:00, 45.46it/s]\n"
     ]
    },
    {
     "name": "stdout",
     "output_type": "stream",
     "text": [
      "-- AP on Train dataset : 0.4048462355242197\n",
      "-- ATTC on Train dataset : 1.0198173309451675\n",
      " Validation ...\n"
     ]
    },
    {
     "name": "stderr",
     "output_type": "stream",
     "text": [
      "100%|██████████| 11085/11085 [01:43<00:00, 107.51it/s]\n"
     ]
    },
    {
     "name": "stdout",
     "output_type": "stream",
     "text": [
      "-- AP on Validation dataset : 0.3410649051159228\n",
      "-- ATTC on Validation dataset : 0.7206542420533618\n",
      "Elipse:  565.6855156421661\n",
      "\n",
      "\n",
      "=====================================\n",
      "// Epoch : 4\n",
      " Train ...\n"
     ]
    },
    {
     "name": "stderr",
     "output_type": "stream",
     "text": [
      "100%|██████████| 8128/8128 [03:13<00:00, 41.96it/s]\n"
     ]
    },
    {
     "name": "stdout",
     "output_type": "stream",
     "text": [
      "-- AP on Train dataset : 0.4390352622338158\n",
      "-- ATTC on Train dataset : 0.9752179598926214\n",
      " Validation ...\n"
     ]
    },
    {
     "name": "stderr",
     "output_type": "stream",
     "text": [
      "100%|██████████| 11085/11085 [02:00<00:00, 91.67it/s] \n"
     ]
    },
    {
     "name": "stdout",
     "output_type": "stream",
     "text": [
      "-- AP on Validation dataset : 0.40112569840615636\n",
      "-- ATTC on Validation dataset : 0.703583342866934\n",
      "Elipse:  628.9045433998108\n",
      "\n",
      "\n",
      "=====================================\n",
      "// Epoch : 5\n",
      " Train ...\n"
     ]
    },
    {
     "name": "stderr",
     "output_type": "stream",
     "text": [
      "100%|██████████| 8151/8151 [03:17<00:00, 41.32it/s]\n"
     ]
    },
    {
     "name": "stdout",
     "output_type": "stream",
     "text": [
      "-- AP on Train dataset : 0.4382086962777703\n",
      "-- ATTC on Train dataset : 0.9618920726593381\n",
      " Validation ...\n"
     ]
    },
    {
     "name": "stderr",
     "output_type": "stream",
     "text": [
      "100%|██████████| 11085/11085 [02:30<00:00, 73.85it/s] \n"
     ]
    },
    {
     "name": "stdout",
     "output_type": "stream",
     "text": [
      "-- AP on Validation dataset : 0.4019521512035605\n",
      "-- ATTC on Validation dataset : 0.6800945336826709\n",
      "Elipse:  680.1817827224731\n",
      "\n",
      "\n",
      "=====================================\n",
      "// Epoch : 6\n",
      " Train ...\n"
     ]
    },
    {
     "name": "stderr",
     "output_type": "stream",
     "text": [
      "100%|██████████| 7832/7832 [03:06<00:00, 42.07it/s]\n"
     ]
    },
    {
     "name": "stdout",
     "output_type": "stream",
     "text": [
      "-- AP on Train dataset : 0.4798887675116435\n",
      "-- ATTC on Train dataset : 0.8607017018760285\n",
      " Validation ...\n"
     ]
    },
    {
     "name": "stderr",
     "output_type": "stream",
     "text": [
      "100%|██████████| 11085/11085 [01:52<00:00, 98.71it/s] \n"
     ]
    },
    {
     "name": "stdout",
     "output_type": "stream",
     "text": [
      "-- AP on Validation dataset : 0.4173652251149139\n",
      "-- ATTC on Validation dataset : 0.7176761372687664\n",
      "Elipse:  630.3593423366547\n",
      "\n",
      "\n",
      "=====================================\n",
      "// Epoch : 7\n",
      " Train ...\n"
     ]
    },
    {
     "name": "stderr",
     "output_type": "stream",
     "text": [
      "100%|██████████| 8106/8106 [03:14<00:00, 41.70it/s]\n"
     ]
    },
    {
     "name": "stdout",
     "output_type": "stream",
     "text": [
      "-- AP on Train dataset : 0.5016273138621011\n",
      "-- ATTC on Train dataset : 0.9993777246861463\n",
      " Validation ...\n"
     ]
    },
    {
     "name": "stderr",
     "output_type": "stream",
     "text": [
      "100%|██████████| 11085/11085 [03:27<00:00, 53.54it/s] \n"
     ]
    },
    {
     "name": "stdout",
     "output_type": "stream",
     "text": [
      "-- AP on Validation dataset : 0.37978967236041067\n",
      "-- ATTC on Validation dataset : 0.6958694500429139\n",
      "Elipse:  744.4694788455963\n",
      "\n",
      "\n",
      "=====================================\n",
      "// Epoch : 8\n",
      " Train ...\n"
     ]
    },
    {
     "name": "stderr",
     "output_type": "stream",
     "text": [
      "100%|██████████| 7844/7844 [03:02<00:00, 42.88it/s]\n"
     ]
    },
    {
     "name": "stdout",
     "output_type": "stream",
     "text": [
      "-- AP on Train dataset : 0.4538100322564799\n",
      "-- ATTC on Train dataset : 0.9450535512447706\n",
      " Validation ...\n"
     ]
    },
    {
     "name": "stderr",
     "output_type": "stream",
     "text": [
      "100%|██████████| 11085/11085 [03:43<00:00, 49.55it/s] \n"
     ]
    },
    {
     "name": "stdout",
     "output_type": "stream",
     "text": [
      "-- AP on Validation dataset : 0.3624582286283176\n",
      "-- ATTC on Validation dataset : 0.68394076794527\n",
      "Elipse:  738.1150965690613\n",
      "\n",
      "\n",
      "=====================================\n",
      "// Epoch : 9\n",
      " Train ...\n"
     ]
    },
    {
     "name": "stderr",
     "output_type": "stream",
     "text": [
      "100%|██████████| 7905/7905 [03:17<00:00, 40.02it/s]\n"
     ]
    },
    {
     "name": "stdout",
     "output_type": "stream",
     "text": [
      "-- AP on Train dataset : 0.49543237787547134\n",
      "-- ATTC on Train dataset : 1.0026955380693359\n",
      " Validation ...\n"
     ]
    },
    {
     "name": "stderr",
     "output_type": "stream",
     "text": [
      "100%|██████████| 11085/11085 [03:00<00:00, 61.56it/s] \n"
     ]
    },
    {
     "name": "stdout",
     "output_type": "stream",
     "text": [
      "-- AP on Validation dataset : 0.4465365820217923\n",
      "-- ATTC on Validation dataset : 0.6971120488835708\n",
      "Elipse:  706.9101536273956\n",
      "\n",
      "\n",
      "=====================================\n",
      "// Epoch : 10\n",
      " Train ...\n"
     ]
    },
    {
     "name": "stderr",
     "output_type": "stream",
     "text": [
      "100%|██████████| 7878/7878 [03:06<00:00, 42.35it/s]\n"
     ]
    },
    {
     "name": "stdout",
     "output_type": "stream",
     "text": [
      "-- AP on Train dataset : 0.5423801159506785\n",
      "-- ATTC on Train dataset : 1.024052397623289\n",
      " Validation ...\n"
     ]
    },
    {
     "name": "stderr",
     "output_type": "stream",
     "text": [
      "100%|██████████| 11085/11085 [06:44<00:00, 27.39it/s] \n"
     ]
    },
    {
     "name": "stdout",
     "output_type": "stream",
     "text": [
      "-- AP on Validation dataset : 0.43882088306553274\n",
      "-- ATTC on Validation dataset : 0.6970291371570976\n",
      "Elipse:  923.6260304450989\n",
      "\n",
      "\n",
      "=====================================\n",
      "// Epoch : 11\n",
      " Train ...\n"
     ]
    },
    {
     "name": "stderr",
     "output_type": "stream",
     "text": [
      "100%|██████████| 7579/7579 [03:01<00:00, 41.80it/s]\n"
     ]
    },
    {
     "name": "stdout",
     "output_type": "stream",
     "text": [
      "-- AP on Train dataset : 0.5260781241990551\n",
      "-- ATTC on Train dataset : 0.9996782733505999\n",
      " Validation ...\n"
     ]
    },
    {
     "name": "stderr",
     "output_type": "stream",
     "text": [
      "100%|██████████| 11085/11085 [03:06<00:00, 59.44it/s] \n"
     ]
    },
    {
     "name": "stdout",
     "output_type": "stream",
     "text": [
      "-- AP on Validation dataset : 0.4367603656794662\n",
      "-- ATTC on Validation dataset : 0.6879261269238952\n",
      "Elipse:  697.0297875404358\n",
      "\n",
      "\n",
      "=====================================\n",
      "// Epoch : 12\n",
      " Train ...\n"
     ]
    },
    {
     "name": "stderr",
     "output_type": "stream",
     "text": [
      "100%|██████████| 7936/7936 [03:02<00:00, 43.38it/s]\n"
     ]
    },
    {
     "name": "stdout",
     "output_type": "stream",
     "text": [
      "-- AP on Train dataset : 0.4876638926427157\n",
      "-- ATTC on Train dataset : 0.9396269816059399\n",
      " Validation ...\n"
     ]
    },
    {
     "name": "stderr",
     "output_type": "stream",
     "text": [
      "100%|██████████| 11085/11085 [05:13<00:00, 35.35it/s] \n"
     ]
    },
    {
     "name": "stdout",
     "output_type": "stream",
     "text": [
      "-- AP on Validation dataset : 0.45380437755418873\n",
      "-- ATTC on Validation dataset : 0.7150328687299502\n",
      "Elipse:  825.0146923065186\n",
      "\n",
      "\n",
      "=====================================\n",
      "// Epoch : 13\n",
      " Train ...\n"
     ]
    },
    {
     "name": "stderr",
     "output_type": "stream",
     "text": [
      "100%|██████████| 7636/7636 [02:55<00:00, 43.40it/s]\n"
     ]
    },
    {
     "name": "stdout",
     "output_type": "stream",
     "text": [
      "-- AP on Train dataset : 0.5292835879917107\n",
      "-- ATTC on Train dataset : 0.95334104424327\n",
      " Validation ...\n"
     ]
    },
    {
     "name": "stderr",
     "output_type": "stream",
     "text": [
      "100%|██████████| 11085/11085 [04:09<00:00, 44.47it/s] \n"
     ]
    },
    {
     "name": "stdout",
     "output_type": "stream",
     "text": [
      "-- AP on Validation dataset : 0.4748735922286505\n",
      "-- ATTC on Validation dataset : 0.7019337702399536\n",
      "Elipse:  753.1424832344055\n",
      "\n",
      "\n",
      "=====================================\n",
      "// Epoch : 14\n",
      " Train ...\n"
     ]
    },
    {
     "name": "stderr",
     "output_type": "stream",
     "text": [
      "100%|██████████| 7845/7845 [03:02<00:00, 43.07it/s]\n"
     ]
    },
    {
     "name": "stdout",
     "output_type": "stream",
     "text": [
      "-- AP on Train dataset : 0.5173496273870002\n",
      "-- ATTC on Train dataset : 1.0337739432850632\n",
      " Validation ...\n"
     ]
    },
    {
     "name": "stderr",
     "output_type": "stream",
     "text": [
      "100%|██████████| 11085/11085 [05:00<00:00, 36.92it/s] \n"
     ]
    },
    {
     "name": "stdout",
     "output_type": "stream",
     "text": [
      "-- AP on Validation dataset : 0.42178661452874094\n",
      "-- ATTC on Validation dataset : 0.7089638772090427\n",
      "Elipse:  813.5914242267609\n",
      "\n",
      "\n",
      "=====================================\n",
      "// Epoch : 15\n",
      " Train ...\n"
     ]
    },
    {
     "name": "stderr",
     "output_type": "stream",
     "text": [
      "100%|██████████| 8009/8009 [02:58<00:00, 44.77it/s]\n"
     ]
    },
    {
     "name": "stdout",
     "output_type": "stream",
     "text": [
      "-- AP on Train dataset : 0.5415044382700782\n",
      "-- ATTC on Train dataset : 0.9972259729829084\n",
      " Validation ...\n"
     ]
    },
    {
     "name": "stderr",
     "output_type": "stream",
     "text": [
      "100%|██████████| 11085/11085 [04:14<00:00, 43.54it/s] \n"
     ]
    },
    {
     "name": "stdout",
     "output_type": "stream",
     "text": [
      "-- AP on Validation dataset : 0.4462499714567711\n",
      "-- ATTC on Validation dataset : 0.7253946104079525\n",
      "Elipse:  773.9485108852386\n",
      "\n",
      "\n",
      "=====================================\n",
      "// Epoch : 16\n",
      " Train ...\n"
     ]
    },
    {
     "name": "stderr",
     "output_type": "stream",
     "text": [
      "100%|██████████| 7896/7896 [03:05<00:00, 42.68it/s]\n"
     ]
    },
    {
     "name": "stdout",
     "output_type": "stream",
     "text": [
      "-- AP on Train dataset : 0.5667522821770328\n",
      "-- ATTC on Train dataset : 0.9843720368869624\n",
      " Validation ...\n"
     ]
    },
    {
     "name": "stderr",
     "output_type": "stream",
     "text": [
      "100%|██████████| 11085/11085 [04:19<00:00, 42.78it/s] \n"
     ]
    },
    {
     "name": "stdout",
     "output_type": "stream",
     "text": [
      "-- AP on Validation dataset : 0.4579502835005562\n",
      "-- ATTC on Validation dataset : 0.70813510107008\n",
      "Elipse:  782.4296307563782\n",
      "\n",
      "\n",
      "=====================================\n",
      "// Epoch : 17\n",
      " Train ...\n"
     ]
    },
    {
     "name": "stderr",
     "output_type": "stream",
     "text": [
      "100%|██████████| 7885/7885 [03:05<00:00, 42.55it/s]\n"
     ]
    },
    {
     "name": "stdout",
     "output_type": "stream",
     "text": [
      "-- AP on Train dataset : 0.5414301092696504\n",
      "-- ATTC on Train dataset : 1.001102474062036\n",
      " Validation ...\n"
     ]
    },
    {
     "name": "stderr",
     "output_type": "stream",
     "text": [
      "100%|██████████| 11085/11085 [04:57<00:00, 37.26it/s] \n"
     ]
    },
    {
     "name": "stdout",
     "output_type": "stream",
     "text": [
      "-- AP on Validation dataset : 0.4742532547879169\n",
      "-- ATTC on Validation dataset : 0.6836148101019597\n",
      "Elipse:  819.1700582504272\n",
      "\n",
      "\n",
      "=====================================\n",
      "// Epoch : 18\n",
      " Train ...\n"
     ]
    },
    {
     "name": "stderr",
     "output_type": "stream",
     "text": [
      "100%|██████████| 8224/8224 [04:00<00:00, 34.24it/s]\n"
     ]
    },
    {
     "name": "stdout",
     "output_type": "stream",
     "text": [
      "-- AP on Train dataset : 0.5029647163404574\n",
      "-- ATTC on Train dataset : 0.9628046673297327\n",
      " Validation ...\n"
     ]
    },
    {
     "name": "stderr",
     "output_type": "stream",
     "text": [
      "100%|██████████| 11085/11085 [04:47<00:00, 38.55it/s] \n"
     ]
    },
    {
     "name": "stdout",
     "output_type": "stream",
     "text": [
      "-- AP on Validation dataset : 0.4506089429148087\n",
      "-- ATTC on Validation dataset : 0.6920523350659137\n",
      "Elipse:  868.0235271453857\n",
      "\n",
      "\n",
      "=====================================\n",
      "// Epoch : 19\n",
      " Train ...\n"
     ]
    },
    {
     "name": "stderr",
     "output_type": "stream",
     "text": [
      "100%|██████████| 7623/7623 [02:52<00:00, 44.15it/s]\n"
     ]
    },
    {
     "name": "stdout",
     "output_type": "stream",
     "text": [
      "-- AP on Train dataset : 0.5626475047434828\n",
      "-- ATTC on Train dataset : 0.9387755943054167\n",
      " Validation ...\n"
     ]
    },
    {
     "name": "stderr",
     "output_type": "stream",
     "text": [
      "100%|██████████| 11085/11085 [06:44<00:00, 27.39it/s] \n"
     ]
    },
    {
     "name": "stdout",
     "output_type": "stream",
     "text": [
      "-- AP on Validation dataset : 0.4054514868644319\n",
      "-- ATTC on Validation dataset : 0.7085819081924181\n",
      "Elipse:  913.0198037624359\n",
      "\n",
      "\n",
      "=====================================\n",
      "// Epoch : 20\n",
      " Train ...\n"
     ]
    },
    {
     "name": "stderr",
     "output_type": "stream",
     "text": [
      "100%|██████████| 8134/8134 [03:06<00:00, 43.56it/s]\n"
     ]
    },
    {
     "name": "stdout",
     "output_type": "stream",
     "text": [
      "-- AP on Train dataset : 0.5207080900272801\n",
      "-- ATTC on Train dataset : 0.9766860652814682\n",
      " Validation ...\n"
     ]
    },
    {
     "name": "stderr",
     "output_type": "stream",
     "text": [
      "100%|██████████| 11085/11085 [05:36<00:00, 32.95it/s] \n"
     ]
    },
    {
     "name": "stdout",
     "output_type": "stream",
     "text": [
      "-- AP on Validation dataset : 0.49169013153381674\n",
      "-- ATTC on Validation dataset : 0.6882445287075905\n",
      "Elipse:  855.689475774765\n",
      "\n",
      "\n",
      "=====================================\n",
      "// Epoch : 21\n",
      " Train ...\n"
     ]
    },
    {
     "name": "stderr",
     "output_type": "stream",
     "text": [
      "100%|██████████| 7961/7961 [03:01<00:00, 43.84it/s]\n"
     ]
    },
    {
     "name": "stdout",
     "output_type": "stream",
     "text": [
      "-- AP on Train dataset : 0.5657797940079012\n",
      "-- ATTC on Train dataset : 0.8818182430839899\n",
      " Validation ...\n"
     ]
    },
    {
     "name": "stderr",
     "output_type": "stream",
     "text": [
      "100%|██████████| 11085/11085 [05:08<00:00, 35.95it/s] \n"
     ]
    },
    {
     "name": "stdout",
     "output_type": "stream",
     "text": [
      "-- AP on Validation dataset : 0.46191099555587695\n",
      "-- ATTC on Validation dataset : 0.6915141707817949\n",
      "Elipse:  828.7067377567291\n",
      "\n",
      "\n",
      "=====================================\n",
      "// Epoch : 22\n",
      " Train ...\n"
     ]
    },
    {
     "name": "stderr",
     "output_type": "stream",
     "text": [
      "100%|██████████| 7105/7105 [02:49<00:00, 42.00it/s]\n"
     ]
    },
    {
     "name": "stdout",
     "output_type": "stream",
     "text": [
      "-- AP on Train dataset : 0.5747493649367253\n",
      "-- ATTC on Train dataset : 0.917727850019553\n",
      " Validation ...\n"
     ]
    },
    {
     "name": "stderr",
     "output_type": "stream",
     "text": [
      "100%|██████████| 11085/11085 [04:56<00:00, 37.35it/s] \n"
     ]
    },
    {
     "name": "stdout",
     "output_type": "stream",
     "text": [
      "-- AP on Validation dataset : 0.46462043293470345\n",
      "-- ATTC on Validation dataset : 0.6903023879981933\n",
      "Elipse:  790.5552015304565\n",
      "\n",
      "\n",
      "=====================================\n",
      "// Epoch : 23\n",
      " Train ...\n"
     ]
    },
    {
     "name": "stderr",
     "output_type": "stream",
     "text": [
      "100%|██████████| 8085/8085 [03:09<00:00, 42.75it/s]\n"
     ]
    },
    {
     "name": "stdout",
     "output_type": "stream",
     "text": [
      "-- AP on Train dataset : 0.5606777329708076\n",
      "-- ATTC on Train dataset : 0.880957064601148\n",
      " Validation ...\n"
     ]
    },
    {
     "name": "stderr",
     "output_type": "stream",
     "text": [
      "100%|██████████| 11085/11085 [05:03<00:00, 36.57it/s] \n"
     ]
    },
    {
     "name": "stdout",
     "output_type": "stream",
     "text": [
      "-- AP on Validation dataset : 0.4512459064722945\n",
      "-- ATTC on Validation dataset : 0.6911467387547224\n",
      "Elipse:  836.0612845420837\n",
      "\n",
      "\n",
      "=====================================\n",
      "// Epoch : 24\n",
      " Train ...\n"
     ]
    },
    {
     "name": "stderr",
     "output_type": "stream",
     "text": [
      "100%|██████████| 7642/7642 [02:55<00:00, 43.51it/s]\n"
     ]
    },
    {
     "name": "stdout",
     "output_type": "stream",
     "text": [
      "-- AP on Train dataset : 0.5611822408142385\n",
      "-- ATTC on Train dataset : 0.9488276749751625\n",
      " Validation ...\n"
     ]
    },
    {
     "name": "stderr",
     "output_type": "stream",
     "text": [
      "100%|██████████| 11085/11085 [05:43<00:00, 32.24it/s] \n"
     ]
    },
    {
     "name": "stdout",
     "output_type": "stream",
     "text": [
      "-- AP on Validation dataset : 0.4956642470344667\n",
      "-- ATTC on Validation dataset : 0.696650689117863\n",
      "Elipse:  845.7554879188538\n",
      "\n",
      "\n",
      "=====================================\n",
      "// Epoch : 25\n",
      " Train ...\n"
     ]
    },
    {
     "name": "stderr",
     "output_type": "stream",
     "text": [
      "100%|██████████| 7351/7351 [02:45<00:00, 44.45it/s]\n"
     ]
    },
    {
     "name": "stdout",
     "output_type": "stream",
     "text": [
      "-- AP on Train dataset : 0.5587681910511293\n",
      "-- ATTC on Train dataset : 0.9947383091531382\n",
      " Validation ...\n"
     ]
    },
    {
     "name": "stderr",
     "output_type": "stream",
     "text": [
      "100%|██████████| 11085/11085 [08:49<00:00, 20.92it/s] \n"
     ]
    },
    {
     "name": "stdout",
     "output_type": "stream",
     "text": [
      "-- AP on Validation dataset : 0.4550360182293246\n",
      "-- ATTC on Validation dataset : 0.6952817196724056\n",
      "Elipse:  1024.2817015647888\n",
      "\n",
      "\n",
      "=====================================\n",
      "// Epoch : 26\n",
      " Train ...\n"
     ]
    },
    {
     "name": "stderr",
     "output_type": "stream",
     "text": [
      "100%|██████████| 7563/7563 [02:56<00:00, 42.79it/s]\n"
     ]
    },
    {
     "name": "stdout",
     "output_type": "stream",
     "text": [
      "-- AP on Train dataset : 0.5780423796509707\n",
      "-- ATTC on Train dataset : 0.9460416464487444\n",
      " Validation ...\n"
     ]
    },
    {
     "name": "stderr",
     "output_type": "stream",
     "text": [
      "100%|██████████| 11085/11085 [12:12<00:00, 15.12it/s]\n"
     ]
    },
    {
     "name": "stdout",
     "output_type": "stream",
     "text": [
      "-- AP on Validation dataset : 0.519107944768849\n",
      "-- ATTC on Validation dataset : 0.6855711816992309\n",
      "Elipse:  1234.6228559017181\n",
      "\n",
      "\n",
      "=====================================\n",
      "// Epoch : 27\n",
      " Train ...\n"
     ]
    },
    {
     "name": "stderr",
     "output_type": "stream",
     "text": [
      "100%|██████████| 7314/7314 [02:47<00:00, 43.76it/s]\n"
     ]
    },
    {
     "name": "stdout",
     "output_type": "stream",
     "text": [
      "-- AP on Train dataset : 0.5753366952857719\n",
      "-- ATTC on Train dataset : 0.8894898041859403\n",
      " Validation ...\n"
     ]
    },
    {
     "name": "stderr",
     "output_type": "stream",
     "text": [
      "100%|██████████| 11085/11085 [09:59<00:00, 18.48it/s]\n"
     ]
    },
    {
     "name": "stdout",
     "output_type": "stream",
     "text": [
      "-- AP on Validation dataset : 0.4846302982975863\n",
      "-- ATTC on Validation dataset : 0.6895822006196989\n",
      "Elipse:  1092.4725017547607\n",
      "\n",
      "\n",
      "=====================================\n",
      "// Epoch : 28\n",
      " Train ...\n"
     ]
    },
    {
     "name": "stderr",
     "output_type": "stream",
     "text": [
      "100%|██████████| 7948/7948 [03:51<00:00, 34.37it/s]\n"
     ]
    },
    {
     "name": "stdout",
     "output_type": "stream",
     "text": [
      "-- AP on Train dataset : 0.5931955622899346\n",
      "-- ATTC on Train dataset : 0.9469214865131945\n",
      " Validation ...\n"
     ]
    },
    {
     "name": "stderr",
     "output_type": "stream",
     "text": [
      "100%|██████████| 11085/11085 [05:26<00:00, 33.92it/s] \n"
     ]
    },
    {
     "name": "stdout",
     "output_type": "stream",
     "text": [
      "-- AP on Validation dataset : 0.481398065380625\n",
      "-- ATTC on Validation dataset : 0.7054453995037071\n",
      "Elipse:  899.8434700965881\n",
      "\n",
      "\n",
      "=====================================\n",
      "// Epoch : 29\n",
      " Train ...\n"
     ]
    },
    {
     "name": "stderr",
     "output_type": "stream",
     "text": [
      "100%|██████████| 7562/7562 [02:44<00:00, 46.07it/s]\n"
     ]
    },
    {
     "name": "stdout",
     "output_type": "stream",
     "text": [
      "-- AP on Train dataset : 0.5878153554510326\n",
      "-- ATTC on Train dataset : 0.9705935825420282\n",
      " Validation ...\n"
     ]
    },
    {
     "name": "stderr",
     "output_type": "stream",
     "text": [
      "100%|██████████| 11085/11085 [08:52<00:00, 20.81it/s] \n"
     ]
    },
    {
     "name": "stdout",
     "output_type": "stream",
     "text": [
      "-- AP on Validation dataset : 0.5152767840412786\n",
      "-- ATTC on Validation dataset : 0.7193556999747399\n",
      "Elipse:  1013.7337710857391\n",
      "\n",
      "\n",
      "=====================================\n",
      "// Epoch : 30\n",
      " Train ...\n"
     ]
    },
    {
     "name": "stderr",
     "output_type": "stream",
     "text": [
      "100%|██████████| 7404/7404 [02:50<00:00, 43.54it/s]\n"
     ]
    },
    {
     "name": "stdout",
     "output_type": "stream",
     "text": [
      "-- AP on Train dataset : 0.5731370736803901\n",
      "-- ATTC on Train dataset : 0.9096058312705052\n",
      " Validation ...\n"
     ]
    },
    {
     "name": "stderr",
     "output_type": "stream",
     "text": [
      "100%|██████████| 11085/11085 [06:14<00:00, 29.62it/s] \n"
     ]
    },
    {
     "name": "stdout",
     "output_type": "stream",
     "text": [
      "-- AP on Validation dataset : 0.4509892867179722\n",
      "-- ATTC on Validation dataset : 0.6974681767546025\n",
      "Elipse:  877.9017415046692\n",
      "\n",
      "\n",
      "=====================================\n",
      "// Epoch : 31\n",
      " Train ...\n"
     ]
    },
    {
     "name": "stderr",
     "output_type": "stream",
     "text": [
      "100%|██████████| 8143/8143 [03:11<00:00, 42.45it/s]\n"
     ]
    },
    {
     "name": "stdout",
     "output_type": "stream",
     "text": [
      "-- AP on Train dataset : 0.6126217387686317\n",
      "-- ATTC on Train dataset : 0.8991106455756407\n",
      " Validation ...\n"
     ]
    },
    {
     "name": "stderr",
     "output_type": "stream",
     "text": [
      "100%|██████████| 11085/11085 [05:05<00:00, 36.34it/s] \n"
     ]
    },
    {
     "name": "stdout",
     "output_type": "stream",
     "text": [
      "-- AP on Validation dataset : 0.49959253901307765\n",
      "-- ATTC on Validation dataset : 0.7003667449072072\n",
      "Elipse:  842.98197889328\n",
      "\n",
      "\n",
      "=====================================\n",
      "// Epoch : 32\n",
      " Train ...\n"
     ]
    },
    {
     "name": "stderr",
     "output_type": "stream",
     "text": [
      "100%|██████████| 8461/8461 [03:12<00:00, 44.03it/s]\n"
     ]
    },
    {
     "name": "stdout",
     "output_type": "stream",
     "text": [
      "-- AP on Train dataset : 0.6182620389098747\n",
      "-- ATTC on Train dataset : 0.922046780860344\n",
      " Validation ...\n"
     ]
    },
    {
     "name": "stderr",
     "output_type": "stream",
     "text": [
      "100%|██████████| 11085/11085 [11:51<00:00, 15.57it/s]\n"
     ]
    },
    {
     "name": "stdout",
     "output_type": "stream",
     "text": [
      "-- AP on Validation dataset : 0.46149035882640405\n",
      "-- ATTC on Validation dataset : 0.6872443492479821\n",
      "Elipse:  1254.703619480133\n",
      "\n",
      "\n",
      "=====================================\n",
      "// Epoch : 33\n",
      " Train ...\n"
     ]
    },
    {
     "name": "stderr",
     "output_type": "stream",
     "text": [
      "100%|██████████| 7213/7213 [02:49<00:00, 42.63it/s]\n"
     ]
    },
    {
     "name": "stdout",
     "output_type": "stream",
     "text": [
      "-- AP on Train dataset : 0.6168805653470094\n",
      "-- ATTC on Train dataset : 0.9385927361031141\n",
      " Validation ...\n"
     ]
    },
    {
     "name": "stderr",
     "output_type": "stream",
     "text": [
      "100%|██████████| 11085/11085 [08:07<00:00, 22.73it/s]\n"
     ]
    },
    {
     "name": "stdout",
     "output_type": "stream",
     "text": [
      "-- AP on Validation dataset : 0.48432020905440853\n",
      "-- ATTC on Validation dataset : 0.6896608294255978\n",
      "Elipse:  984.7477014064789\n",
      "\n",
      "\n",
      "=====================================\n",
      "// Epoch : 34\n",
      " Train ...\n"
     ]
    },
    {
     "name": "stderr",
     "output_type": "stream",
     "text": [
      "100%|██████████| 7877/7877 [03:49<00:00, 34.30it/s]\n"
     ]
    },
    {
     "name": "stdout",
     "output_type": "stream",
     "text": [
      "-- AP on Train dataset : 0.5929643404731019\n",
      "-- ATTC on Train dataset : 0.8880733000745666\n",
      " Validation ...\n"
     ]
    },
    {
     "name": "stderr",
     "output_type": "stream",
     "text": [
      "100%|██████████| 11085/11085 [05:21<00:00, 34.45it/s] \n"
     ]
    },
    {
     "name": "stdout",
     "output_type": "stream",
     "text": [
      "-- AP on Validation dataset : 0.5133668804553803\n",
      "-- ATTC on Validation dataset : 0.6946812259273424\n",
      "Elipse:  887.6414737701416\n",
      "\n",
      "\n",
      "=====================================\n",
      "// Epoch : 35\n",
      " Train ...\n"
     ]
    },
    {
     "name": "stderr",
     "output_type": "stream",
     "text": [
      "100%|██████████| 8386/8386 [03:13<00:00, 43.26it/s]\n"
     ]
    },
    {
     "name": "stdout",
     "output_type": "stream",
     "text": [
      "-- AP on Train dataset : 0.5923471431188079\n",
      "-- ATTC on Train dataset : 0.9396481536637277\n",
      " Validation ...\n"
     ]
    },
    {
     "name": "stderr",
     "output_type": "stream",
     "text": [
      "100%|██████████| 11085/11085 [05:18<00:00, 34.85it/s] \n"
     ]
    },
    {
     "name": "stdout",
     "output_type": "stream",
     "text": [
      "-- AP on Validation dataset : 0.4815934239401988\n",
      "-- ATTC on Validation dataset : 0.6933261400972864\n",
      "Elipse:  859.1141242980957\n",
      "\n",
      "\n",
      "=====================================\n",
      "// Epoch : 36\n",
      " Train ...\n"
     ]
    },
    {
     "name": "stderr",
     "output_type": "stream",
     "text": [
      "100%|██████████| 7913/7913 [03:09<00:00, 41.84it/s]\n"
     ]
    },
    {
     "name": "stdout",
     "output_type": "stream",
     "text": [
      "-- AP on Train dataset : 0.5853639139086119\n",
      "-- ATTC on Train dataset : 0.9053852405915899\n",
      " Validation ...\n"
     ]
    },
    {
     "name": "stderr",
     "output_type": "stream",
     "text": [
      "100%|██████████| 11085/11085 [05:41<00:00, 32.46it/s] \n"
     ]
    },
    {
     "name": "stdout",
     "output_type": "stream",
     "text": [
      "-- AP on Validation dataset : 0.5079506890158404\n",
      "-- ATTC on Validation dataset : 0.7110402991361244\n",
      "Elipse:  863.5274648666382\n",
      "\n",
      "\n",
      "=====================================\n",
      "// Epoch : 37\n",
      " Train ...\n"
     ]
    },
    {
     "name": "stderr",
     "output_type": "stream",
     "text": [
      "100%|██████████| 7525/7525 [02:48<00:00, 44.65it/s]\n"
     ]
    },
    {
     "name": "stdout",
     "output_type": "stream",
     "text": [
      "-- AP on Train dataset : 0.58445867592476\n",
      "-- ATTC on Train dataset : 0.9050065081017603\n",
      " Validation ...\n"
     ]
    },
    {
     "name": "stderr",
     "output_type": "stream",
     "text": [
      "100%|██████████| 11085/11085 [10:30<00:00, 17.59it/s] \n"
     ]
    },
    {
     "name": "stdout",
     "output_type": "stream",
     "text": [
      "-- AP on Validation dataset : 0.47398853256886525\n",
      "-- ATTC on Validation dataset : 0.6950553694876744\n",
      "Elipse:  1129.9273478984833\n",
      "\n",
      "\n",
      "=====================================\n",
      "// Epoch : 38\n",
      " Train ...\n"
     ]
    },
    {
     "name": "stderr",
     "output_type": "stream",
     "text": [
      "100%|██████████| 7868/7868 [03:04<00:00, 42.68it/s]\n"
     ]
    },
    {
     "name": "stdout",
     "output_type": "stream",
     "text": [
      "-- AP on Train dataset : 0.5857279531172405\n",
      "-- ATTC on Train dataset : 0.9382993651285622\n",
      " Validation ...\n"
     ]
    },
    {
     "name": "stderr",
     "output_type": "stream",
     "text": [
      "100%|██████████| 11085/11085 [09:34<00:00, 19.31it/s]\n"
     ]
    },
    {
     "name": "stdout",
     "output_type": "stream",
     "text": [
      "-- AP on Validation dataset : 0.5167304591339341\n",
      "-- ATTC on Validation dataset : 0.7063050325601361\n",
      "Elipse:  1096.3044939041138\n",
      "\n",
      "\n",
      "=====================================\n",
      "// Epoch : 39\n",
      " Train ...\n"
     ]
    },
    {
     "name": "stderr",
     "output_type": "stream",
     "text": [
      "100%|██████████| 8417/8417 [03:11<00:00, 43.86it/s]\n"
     ]
    },
    {
     "name": "stdout",
     "output_type": "stream",
     "text": [
      "-- AP on Train dataset : 0.5779783304692251\n",
      "-- ATTC on Train dataset : 0.9182117034555904\n",
      " Validation ...\n"
     ]
    },
    {
     "name": "stderr",
     "output_type": "stream",
     "text": [
      "100%|██████████| 11085/11085 [06:32<00:00, 28.22it/s] \n"
     ]
    },
    {
     "name": "stdout",
     "output_type": "stream",
     "text": [
      "-- AP on Validation dataset : 0.5151986724351966\n",
      "-- ATTC on Validation dataset : 0.7093860564082024\n",
      "Elipse:  927.3685534000397\n",
      "\n",
      "\n",
      "=====================================\n",
      "// Epoch : 40\n",
      " Train ...\n"
     ]
    },
    {
     "name": "stderr",
     "output_type": "stream",
     "text": [
      "100%|██████████| 7973/7973 [03:16<00:00, 40.62it/s]\n"
     ]
    },
    {
     "name": "stdout",
     "output_type": "stream",
     "text": [
      "-- AP on Train dataset : 0.5935276698313374\n",
      "-- ATTC on Train dataset : 0.8689330202616011\n",
      " Validation ...\n"
     ]
    },
    {
     "name": "stderr",
     "output_type": "stream",
     "text": [
      "100%|██████████| 11085/11085 [04:44<00:00, 38.94it/s] \n"
     ]
    },
    {
     "name": "stdout",
     "output_type": "stream",
     "text": [
      "-- AP on Validation dataset : 0.5000860883855016\n",
      "-- ATTC on Validation dataset : 0.7009822288083494\n",
      "Elipse:  822.9371693134308\n",
      "\n",
      "\n",
      "=====================================\n",
      "// Epoch : 41\n",
      " Train ...\n"
     ]
    },
    {
     "name": "stderr",
     "output_type": "stream",
     "text": [
      "100%|██████████| 7381/7381 [02:44<00:00, 44.86it/s]\n"
     ]
    },
    {
     "name": "stdout",
     "output_type": "stream",
     "text": [
      "-- AP on Train dataset : 0.6132133171643573\n",
      "-- ATTC on Train dataset : 0.9143678430583897\n",
      " Validation ...\n"
     ]
    },
    {
     "name": "stderr",
     "output_type": "stream",
     "text": [
      "100%|██████████| 11085/11085 [06:03<00:00, 30.54it/s] \n"
     ]
    },
    {
     "name": "stdout",
     "output_type": "stream",
     "text": [
      "-- AP on Validation dataset : 0.5349305903844241\n",
      "-- ATTC on Validation dataset : 0.6825802747147518\n",
      "Elipse:  853.9910264015198\n",
      "\n",
      "\n",
      "=====================================\n",
      "// Epoch : 42\n",
      " Train ...\n"
     ]
    },
    {
     "name": "stderr",
     "output_type": "stream",
     "text": [
      "100%|██████████| 7549/7549 [02:57<00:00, 42.58it/s]\n"
     ]
    },
    {
     "name": "stdout",
     "output_type": "stream",
     "text": [
      "-- AP on Train dataset : 0.6187527686875696\n",
      "-- ATTC on Train dataset : 0.9790312490218037\n",
      " Validation ...\n"
     ]
    },
    {
     "name": "stderr",
     "output_type": "stream",
     "text": [
      "100%|██████████| 11085/11085 [04:34<00:00, 40.34it/s] \n"
     ]
    },
    {
     "name": "stdout",
     "output_type": "stream",
     "text": [
      "-- AP on Validation dataset : 0.5500639395479165\n",
      "-- ATTC on Validation dataset : 0.6868952731485931\n",
      "Elipse:  780.5975813865662\n",
      "\n",
      "\n",
      "=====================================\n",
      "// Epoch : 43\n",
      " Train ...\n"
     ]
    },
    {
     "name": "stderr",
     "output_type": "stream",
     "text": [
      "100%|██████████| 8206/8206 [03:14<00:00, 42.21it/s]\n"
     ]
    },
    {
     "name": "stdout",
     "output_type": "stream",
     "text": [
      "-- AP on Train dataset : 0.5741097660989288\n",
      "-- ATTC on Train dataset : 0.8997505052602266\n",
      " Validation ...\n"
     ]
    },
    {
     "name": "stderr",
     "output_type": "stream",
     "text": [
      "100%|██████████| 11085/11085 [10:45<00:00, 17.17it/s] \n"
     ]
    },
    {
     "name": "stdout",
     "output_type": "stream",
     "text": [
      "-- AP on Validation dataset : 0.4987520602706488\n",
      "-- ATTC on Validation dataset : 0.6887423510529036\n",
      "Elipse:  1185.5924015045166\n",
      "\n",
      "\n",
      "=====================================\n",
      "// Epoch : 44\n",
      " Train ...\n"
     ]
    },
    {
     "name": "stderr",
     "output_type": "stream",
     "text": [
      "100%|██████████| 8502/8502 [03:23<00:00, 41.85it/s]\n"
     ]
    },
    {
     "name": "stdout",
     "output_type": "stream",
     "text": [
      "-- AP on Train dataset : 0.597822449720263\n",
      "-- ATTC on Train dataset : 0.9738496035996198\n",
      " Validation ...\n"
     ]
    },
    {
     "name": "stderr",
     "output_type": "stream",
     "text": [
      "100%|██████████| 11085/11085 [05:48<00:00, 31.84it/s] \n"
     ]
    },
    {
     "name": "stdout",
     "output_type": "stream",
     "text": [
      "-- AP on Validation dataset : 0.48135930488688133\n",
      "-- ATTC on Validation dataset : 0.6936498927155521\n",
      "Elipse:  904.2580828666687\n",
      "\n",
      "\n",
      "=====================================\n",
      "// Epoch : 45\n",
      " Train ...\n"
     ]
    },
    {
     "name": "stderr",
     "output_type": "stream",
     "text": [
      "100%|██████████| 7804/7804 [02:58<00:00, 43.66it/s]\n"
     ]
    },
    {
     "name": "stdout",
     "output_type": "stream",
     "text": [
      "-- AP on Train dataset : 0.5886921102486301\n",
      "-- ATTC on Train dataset : 0.9332237637228282\n",
      " Validation ...\n"
     ]
    },
    {
     "name": "stderr",
     "output_type": "stream",
     "text": [
      "100%|██████████| 11085/11085 [08:50<00:00, 20.91it/s]\n"
     ]
    },
    {
     "name": "stdout",
     "output_type": "stream",
     "text": [
      "-- AP on Validation dataset : 0.4751252227544694\n",
      "-- ATTC on Validation dataset : 0.6941005306065191\n",
      "Elipse:  1049.1029071807861\n",
      "\n",
      "\n",
      "=====================================\n",
      "// Epoch : 46\n",
      " Train ...\n"
     ]
    },
    {
     "name": "stderr",
     "output_type": "stream",
     "text": [
      "100%|██████████| 7649/7649 [03:03<00:00, 41.62it/s]\n"
     ]
    },
    {
     "name": "stdout",
     "output_type": "stream",
     "text": [
      "-- AP on Train dataset : 0.5818570287213448\n",
      "-- ATTC on Train dataset : 0.9236573670330944\n",
      " Validation ...\n"
     ]
    },
    {
     "name": "stderr",
     "output_type": "stream",
     "text": [
      "100%|██████████| 11085/11085 [06:30<00:00, 28.42it/s] \n"
     ]
    },
    {
     "name": "stdout",
     "output_type": "stream",
     "text": [
      "-- AP on Validation dataset : 0.5306274379915323\n",
      "-- ATTC on Validation dataset : 0.7117156033158537\n",
      "Elipse:  905.1569011211395\n",
      "\n",
      "\n",
      "=====================================\n",
      "// Epoch : 47\n",
      " Train ...\n"
     ]
    },
    {
     "name": "stderr",
     "output_type": "stream",
     "text": [
      "100%|██████████| 7962/7962 [02:59<00:00, 44.46it/s]\n"
     ]
    },
    {
     "name": "stdout",
     "output_type": "stream",
     "text": [
      "-- AP on Train dataset : 0.6070396340296912\n",
      "-- ATTC on Train dataset : 1.0012988032143875\n",
      " Validation ...\n"
     ]
    },
    {
     "name": "stderr",
     "output_type": "stream",
     "text": [
      "100%|██████████| 11085/11085 [08:31<00:00, 21.69it/s]\n"
     ]
    },
    {
     "name": "stdout",
     "output_type": "stream",
     "text": [
      "-- AP on Validation dataset : 0.49166811353643625\n",
      "-- ATTC on Validation dataset : 0.6980518073067452\n",
      "Elipse:  1030.4717092514038\n",
      "\n",
      "\n",
      "=====================================\n",
      "// Epoch : 48\n",
      " Train ...\n"
     ]
    },
    {
     "name": "stderr",
     "output_type": "stream",
     "text": [
      "100%|██████████| 7721/7721 [02:56<00:00, 43.78it/s]\n"
     ]
    },
    {
     "name": "stdout",
     "output_type": "stream",
     "text": [
      "-- AP on Train dataset : 0.593737886754782\n",
      "-- ATTC on Train dataset : 1.0184550299246182\n",
      " Validation ...\n"
     ]
    },
    {
     "name": "stderr",
     "output_type": "stream",
     "text": [
      "100%|██████████| 11085/11085 [05:15<00:00, 35.11it/s] \n"
     ]
    },
    {
     "name": "stdout",
     "output_type": "stream",
     "text": [
      "-- AP on Validation dataset : 0.5117757884511543\n",
      "-- ATTC on Validation dataset : 0.7051371862069193\n",
      "Elipse:  830.166380405426\n",
      "\n",
      "\n",
      "=====================================\n",
      "// Epoch : 49\n",
      " Train ...\n"
     ]
    },
    {
     "name": "stderr",
     "output_type": "stream",
     "text": [
      "100%|██████████| 8488/8488 [03:19<00:00, 42.61it/s]\n"
     ]
    },
    {
     "name": "stdout",
     "output_type": "stream",
     "text": [
      "-- AP on Train dataset : 0.5653012648753428\n",
      "-- ATTC on Train dataset : 0.9644582418517853\n",
      " Validation ...\n"
     ]
    },
    {
     "name": "stderr",
     "output_type": "stream",
     "text": [
      "100%|██████████| 11085/11085 [08:24<00:00, 21.96it/s] \n"
     ]
    },
    {
     "name": "stdout",
     "output_type": "stream",
     "text": [
      "-- AP on Validation dataset : 0.5116329257111961\n",
      "-- ATTC on Validation dataset : 0.6985524611136971\n",
      "Elipse:  1054.1622359752655\n",
      "\n",
      "\n",
      "=====================================\n",
      "// Epoch : 50\n",
      " Train ...\n"
     ]
    },
    {
     "name": "stderr",
     "output_type": "stream",
     "text": [
      "100%|██████████| 7686/7686 [03:00<00:00, 42.66it/s]\n"
     ]
    },
    {
     "name": "stdout",
     "output_type": "stream",
     "text": [
      "-- AP on Train dataset : 0.5959381741727641\n",
      "-- ATTC on Train dataset : 0.8488386741194459\n",
      " Validation ...\n"
     ]
    },
    {
     "name": "stderr",
     "output_type": "stream",
     "text": [
      "100%|██████████| 11085/11085 [05:29<00:00, 33.65it/s] \n"
     ]
    },
    {
     "name": "stdout",
     "output_type": "stream",
     "text": [
      "-- AP on Validation dataset : 0.5242616536013551\n",
      "-- ATTC on Validation dataset : 0.6990182430966605\n",
      "Elipse:  848.6255960464478\n",
      "\n",
      "\n",
      "=====================================\n",
      "// Epoch : 51\n",
      " Train ...\n"
     ]
    },
    {
     "name": "stderr",
     "output_type": "stream",
     "text": [
      "100%|██████████| 7940/7940 [03:04<00:00, 43.08it/s]\n"
     ]
    },
    {
     "name": "stdout",
     "output_type": "stream",
     "text": [
      "-- AP on Train dataset : 0.593719077656791\n",
      "-- ATTC on Train dataset : 0.9930189338296331\n",
      " Validation ...\n"
     ]
    },
    {
     "name": "stderr",
     "output_type": "stream",
     "text": [
      "100%|██████████| 11085/11085 [05:45<00:00, 32.11it/s] \n"
     ]
    },
    {
     "name": "stdout",
     "output_type": "stream",
     "text": [
      "-- AP on Validation dataset : 0.4732706472654351\n",
      "-- ATTC on Validation dataset : 0.692499634907122\n",
      "Elipse:  869.6483902931213\n",
      "\n",
      "\n",
      "=====================================\n",
      "// Epoch : 52\n",
      " Train ...\n"
     ]
    },
    {
     "name": "stderr",
     "output_type": "stream",
     "text": [
      "100%|██████████| 7684/7684 [02:57<00:00, 43.19it/s]\n"
     ]
    },
    {
     "name": "stdout",
     "output_type": "stream",
     "text": [
      "-- AP on Train dataset : 0.6075891266642074\n",
      "-- ATTC on Train dataset : 0.9622075777897278\n",
      " Validation ...\n"
     ]
    },
    {
     "name": "stderr",
     "output_type": "stream",
     "text": [
      "100%|██████████| 11085/11085 [06:06<00:00, 30.27it/s] \n"
     ]
    },
    {
     "name": "stdout",
     "output_type": "stream",
     "text": [
      "-- AP on Validation dataset : 0.5199360389844424\n",
      "-- ATTC on Validation dataset : 0.7058672963091646\n",
      "Elipse:  882.534562587738\n",
      "\n",
      "\n",
      "=====================================\n",
      "// Epoch : 53\n",
      " Train ...\n"
     ]
    },
    {
     "name": "stderr",
     "output_type": "stream",
     "text": [
      "100%|██████████| 8073/8073 [03:14<00:00, 41.43it/s]\n"
     ]
    },
    {
     "name": "stdout",
     "output_type": "stream",
     "text": [
      "-- AP on Train dataset : 0.5826980077986238\n",
      "-- ATTC on Train dataset : 0.9589973098304065\n",
      " Validation ...\n"
     ]
    },
    {
     "name": "stderr",
     "output_type": "stream",
     "text": [
      "100%|██████████| 11085/11085 [05:15<00:00, 35.13it/s] \n"
     ]
    },
    {
     "name": "stdout",
     "output_type": "stream",
     "text": [
      "-- AP on Validation dataset : 0.5192214136258442\n",
      "-- ATTC on Validation dataset : 0.6939458423930167\n",
      "Elipse:  856.0982868671417\n",
      "\n",
      "\n",
      "=====================================\n",
      "// Epoch : 54\n",
      " Train ...\n"
     ]
    },
    {
     "name": "stderr",
     "output_type": "stream",
     "text": [
      "100%|██████████| 7868/7868 [03:02<00:00, 43.16it/s]\n"
     ]
    },
    {
     "name": "stdout",
     "output_type": "stream",
     "text": [
      "-- AP on Train dataset : 0.6435394270166589\n",
      "-- ATTC on Train dataset : 0.9291117738216345\n",
      " Validation ...\n"
     ]
    },
    {
     "name": "stderr",
     "output_type": "stream",
     "text": [
      "100%|██████████| 11085/11085 [10:51<00:00, 17.01it/s]\n"
     ]
    },
    {
     "name": "stdout",
     "output_type": "stream",
     "text": [
      "-- AP on Validation dataset : 0.4776351887765734\n",
      "-- ATTC on Validation dataset : 0.6912556835540303\n",
      "Elipse:  1176.409670829773\n",
      "\n",
      "\n",
      "=====================================\n",
      "// Epoch : 55\n",
      " Train ...\n"
     ]
    },
    {
     "name": "stderr",
     "output_type": "stream",
     "text": [
      "100%|██████████| 7225/7225 [02:48<00:00, 42.87it/s]\n"
     ]
    },
    {
     "name": "stdout",
     "output_type": "stream",
     "text": [
      "-- AP on Train dataset : 0.6249624285542535\n",
      "-- ATTC on Train dataset : 0.8822237807558111\n",
      " Validation ...\n"
     ]
    },
    {
     "name": "stderr",
     "output_type": "stream",
     "text": [
      "100%|██████████| 11085/11085 [06:15<00:00, 29.49it/s] \n"
     ]
    },
    {
     "name": "stdout",
     "output_type": "stream",
     "text": [
      "-- AP on Validation dataset : 0.5273365921081591\n",
      "-- ATTC on Validation dataset : 0.6981145061235854\n",
      "Elipse:  869.2435705661774\n",
      "\n",
      "\n",
      "=====================================\n",
      "// Epoch : 56\n",
      " Train ...\n"
     ]
    },
    {
     "name": "stderr",
     "output_type": "stream",
     "text": [
      "100%|██████████| 7059/7059 [02:38<00:00, 44.52it/s]\n"
     ]
    },
    {
     "name": "stdout",
     "output_type": "stream",
     "text": [
      "-- AP on Train dataset : 0.6621558724167932\n",
      "-- ATTC on Train dataset : 0.9760414853635945\n",
      " Validation ...\n"
     ]
    },
    {
     "name": "stderr",
     "output_type": "stream",
     "text": [
      "100%|██████████| 11085/11085 [05:11<00:00, 35.58it/s] \n"
     ]
    },
    {
     "name": "stdout",
     "output_type": "stream",
     "text": [
      "-- AP on Validation dataset : 0.5154600974395007\n",
      "-- ATTC on Validation dataset : 0.6996823761842778\n",
      "Elipse:  799.6229231357574\n",
      "\n",
      "\n",
      "=====================================\n",
      "// Epoch : 57\n",
      " Train ...\n"
     ]
    },
    {
     "name": "stderr",
     "output_type": "stream",
     "text": [
      "100%|██████████| 7675/7675 [02:52<00:00, 44.48it/s]\n"
     ]
    },
    {
     "name": "stdout",
     "output_type": "stream",
     "text": [
      "-- AP on Train dataset : 0.5850628585516136\n",
      "-- ATTC on Train dataset : 0.9835645433787178\n",
      " Validation ...\n"
     ]
    },
    {
     "name": "stderr",
     "output_type": "stream",
     "text": [
      "100%|██████████| 11085/11085 [06:06<00:00, 30.21it/s] \n"
     ]
    },
    {
     "name": "stdout",
     "output_type": "stream",
     "text": [
      "-- AP on Validation dataset : 0.5350533558599643\n",
      "-- ATTC on Validation dataset : 0.6893696096576452\n",
      "Elipse:  874.528520822525\n",
      "\n",
      "\n",
      "=====================================\n",
      "// Epoch : 58\n",
      " Train ...\n"
     ]
    },
    {
     "name": "stderr",
     "output_type": "stream",
     "text": [
      "100%|██████████| 8256/8256 [03:10<00:00, 43.30it/s]\n"
     ]
    },
    {
     "name": "stdout",
     "output_type": "stream",
     "text": [
      "-- AP on Train dataset : 0.6256110040950297\n",
      "-- ATTC on Train dataset : 0.9332953300046333\n",
      " Validation ...\n"
     ]
    },
    {
     "name": "stderr",
     "output_type": "stream",
     "text": [
      "100%|██████████| 11085/11085 [05:50<00:00, 31.59it/s] \n"
     ]
    },
    {
     "name": "stdout",
     "output_type": "stream",
     "text": [
      "-- AP on Validation dataset : 0.532678659853104\n",
      "-- ATTC on Validation dataset : 0.6957707236883308\n",
      "Elipse:  884.6014914512634\n",
      "\n",
      "\n",
      "=====================================\n",
      "// Epoch : 59\n",
      " Train ...\n"
     ]
    },
    {
     "name": "stderr",
     "output_type": "stream",
     "text": [
      "100%|██████████| 8200/8200 [03:19<00:00, 41.15it/s]\n"
     ]
    },
    {
     "name": "stdout",
     "output_type": "stream",
     "text": [
      "-- AP on Train dataset : 0.6268550799252198\n",
      "-- ATTC on Train dataset : 0.9200064986456251\n",
      " Validation ...\n"
     ]
    },
    {
     "name": "stderr",
     "output_type": "stream",
     "text": [
      "100%|██████████| 11085/11085 [06:28<00:00, 28.56it/s]\n"
     ]
    },
    {
     "name": "stdout",
     "output_type": "stream",
     "text": [
      "-- AP on Validation dataset : 0.5128473734498413\n",
      "-- ATTC on Validation dataset : 0.6980611372770794\n",
      "Elipse:  930.8586857318878\n",
      "\n",
      "\n",
      "=====================================\n",
      "// Epoch : 60\n",
      " Train ...\n"
     ]
    },
    {
     "name": "stderr",
     "output_type": "stream",
     "text": [
      "100%|██████████| 8521/8521 [05:21<00:00, 26.51it/s]\n"
     ]
    },
    {
     "name": "stdout",
     "output_type": "stream",
     "text": [
      "-- AP on Train dataset : 0.6034226625325838\n",
      "-- ATTC on Train dataset : 0.8430741578163466\n",
      " Validation ...\n"
     ]
    },
    {
     "name": "stderr",
     "output_type": "stream",
     "text": [
      "100%|██████████| 11085/11085 [04:54<00:00, 37.65it/s] \n"
     ]
    },
    {
     "name": "stdout",
     "output_type": "stream",
     "text": [
      "-- AP on Validation dataset : 0.5411922922596663\n",
      "-- ATTC on Validation dataset : 0.6963827071375207\n",
      "Elipse:  969.098531961441\n",
      "\n",
      "\n",
      "=====================================\n",
      "// Epoch : 61\n",
      " Train ...\n"
     ]
    },
    {
     "name": "stderr",
     "output_type": "stream",
     "text": [
      "100%|██████████| 8103/8103 [02:58<00:00, 45.30it/s]\n"
     ]
    },
    {
     "name": "stdout",
     "output_type": "stream",
     "text": [
      "-- AP on Train dataset : 0.6139996808094929\n",
      "-- ATTC on Train dataset : 0.9555859428090336\n",
      " Validation ...\n"
     ]
    },
    {
     "name": "stderr",
     "output_type": "stream",
     "text": [
      "100%|██████████| 11085/11085 [05:37<00:00, 32.89it/s]\n"
     ]
    },
    {
     "name": "stdout",
     "output_type": "stream",
     "text": [
      "-- AP on Validation dataset : 0.5394812090199199\n",
      "-- ATTC on Validation dataset : 0.6924715065028052\n",
      "Elipse:  857.9573004245758\n",
      "\n",
      "\n",
      "=====================================\n",
      "// Epoch : 62\n",
      " Train ...\n"
     ]
    },
    {
     "name": "stderr",
     "output_type": "stream",
     "text": [
      "100%|██████████| 7628/7628 [03:06<00:00, 40.92it/s]\n"
     ]
    },
    {
     "name": "stdout",
     "output_type": "stream",
     "text": [
      "-- AP on Train dataset : 0.6566343950813274\n",
      "-- ATTC on Train dataset : 0.9147868284112265\n",
      " Validation ...\n"
     ]
    },
    {
     "name": "stderr",
     "output_type": "stream",
     "text": [
      "100%|██████████| 11085/11085 [06:27<00:00, 28.64it/s]\n"
     ]
    },
    {
     "name": "stdout",
     "output_type": "stream",
     "text": [
      "-- AP on Validation dataset : 0.4369150388357537\n",
      "-- ATTC on Validation dataset : 0.6914620067923186\n",
      "Elipse:  910.5885076522827\n",
      "\n",
      "\n",
      "=====================================\n",
      "// Epoch : 63\n",
      " Train ...\n"
     ]
    },
    {
     "name": "stderr",
     "output_type": "stream",
     "text": [
      "100%|██████████| 6979/6979 [02:38<00:00, 44.01it/s]\n"
     ]
    },
    {
     "name": "stdout",
     "output_type": "stream",
     "text": [
      "-- AP on Train dataset : 0.5861657176554942\n",
      "-- ATTC on Train dataset : 0.9376639179502657\n",
      " Validation ...\n"
     ]
    },
    {
     "name": "stderr",
     "output_type": "stream",
     "text": [
      "100%|██████████| 11085/11085 [05:41<00:00, 32.50it/s] \n"
     ]
    },
    {
     "name": "stdout",
     "output_type": "stream",
     "text": [
      "-- AP on Validation dataset : 0.46367789690192546\n",
      "-- ATTC on Validation dataset : 0.6915972160127881\n",
      "Elipse:  823.106499671936\n",
      "\n",
      "\n",
      "=====================================\n",
      "// Epoch : 64\n",
      " Train ...\n"
     ]
    },
    {
     "name": "stderr",
     "output_type": "stream",
     "text": [
      "100%|██████████| 7793/7793 [03:07<00:00, 41.67it/s]\n"
     ]
    },
    {
     "name": "stdout",
     "output_type": "stream",
     "text": [
      "-- AP on Train dataset : 0.6258788074250295\n",
      "-- ATTC on Train dataset : 0.9456068127771488\n",
      " Validation ...\n"
     ]
    },
    {
     "name": "stderr",
     "output_type": "stream",
     "text": [
      "100%|██████████| 11085/11085 [06:11<00:00, 29.82it/s] \n"
     ]
    },
    {
     "name": "stdout",
     "output_type": "stream",
     "text": [
      "-- AP on Validation dataset : 0.48114843620629344\n",
      "-- ATTC on Validation dataset : 0.700068627067102\n",
      "Elipse:  900.2897210121155\n",
      "\n",
      "\n",
      "=====================================\n",
      "// Epoch : 65\n",
      " Train ...\n"
     ]
    },
    {
     "name": "stderr",
     "output_type": "stream",
     "text": [
      "100%|██████████| 7799/7799 [03:01<00:00, 43.02it/s]\n"
     ]
    },
    {
     "name": "stdout",
     "output_type": "stream",
     "text": [
      "-- AP on Train dataset : 0.638570864290743\n",
      "-- ATTC on Train dataset : 0.8802583449097228\n",
      " Validation ...\n"
     ]
    },
    {
     "name": "stderr",
     "output_type": "stream",
     "text": [
      "100%|██████████| 11085/11085 [07:02<00:00, 26.25it/s] \n"
     ]
    },
    {
     "name": "stdout",
     "output_type": "stream",
     "text": [
      "-- AP on Validation dataset : 0.5262769777634534\n",
      "-- ATTC on Validation dataset : 0.7144572545841374\n",
      "Elipse:  942.7056570053101\n",
      "\n",
      "\n",
      "=====================================\n",
      "// Epoch : 66\n",
      " Train ...\n"
     ]
    },
    {
     "name": "stderr",
     "output_type": "stream",
     "text": [
      "100%|██████████| 7750/7750 [02:53<00:00, 44.75it/s]\n"
     ]
    },
    {
     "name": "stdout",
     "output_type": "stream",
     "text": [
      "-- AP on Train dataset : 0.6186012067899767\n",
      "-- ATTC on Train dataset : 0.8929823423335017\n",
      " Validation ...\n"
     ]
    },
    {
     "name": "stderr",
     "output_type": "stream",
     "text": [
      "100%|██████████| 11085/11085 [05:43<00:00, 32.24it/s] \n"
     ]
    },
    {
     "name": "stdout",
     "output_type": "stream",
     "text": [
      "-- AP on Validation dataset : 0.49745210384016547\n",
      "-- ATTC on Validation dataset : 0.6865530344846448\n",
      "Elipse:  856.4344329833984\n",
      "\n",
      "\n",
      "=====================================\n",
      "// Epoch : 67\n",
      " Train ...\n"
     ]
    },
    {
     "name": "stderr",
     "output_type": "stream",
     "text": [
      "100%|██████████| 7845/7845 [02:59<00:00, 43.79it/s]\n"
     ]
    },
    {
     "name": "stdout",
     "output_type": "stream",
     "text": [
      "-- AP on Train dataset : 0.6274897895490268\n",
      "-- ATTC on Train dataset : 0.9144299015115136\n",
      " Validation ...\n"
     ]
    },
    {
     "name": "stderr",
     "output_type": "stream",
     "text": [
      "100%|██████████| 11085/11085 [11:01<00:00, 16.77it/s]\n"
     ]
    },
    {
     "name": "stdout",
     "output_type": "stream",
     "text": [
      "-- AP on Validation dataset : 0.523085163958487\n",
      "-- ATTC on Validation dataset : 0.6974054324865737\n",
      "Elipse:  1178.3727843761444\n",
      "\n",
      "\n",
      "=====================================\n",
      "// Epoch : 68\n",
      " Train ...\n"
     ]
    },
    {
     "name": "stderr",
     "output_type": "stream",
     "text": [
      "100%|██████████| 7704/7704 [02:47<00:00, 46.07it/s]\n"
     ]
    },
    {
     "name": "stdout",
     "output_type": "stream",
     "text": [
      "-- AP on Train dataset : 0.6392263462796639\n",
      "-- ATTC on Train dataset : 0.959853463819323\n",
      " Validation ...\n"
     ]
    },
    {
     "name": "stderr",
     "output_type": "stream",
     "text": [
      "100%|██████████| 11085/11085 [05:51<00:00, 31.57it/s] \n"
     ]
    },
    {
     "name": "stdout",
     "output_type": "stream",
     "text": [
      "-- AP on Validation dataset : 0.5272319820358327\n",
      "-- ATTC on Validation dataset : 0.706534534435555\n",
      "Elipse:  854.7600297927856\n",
      "\n",
      "\n",
      "=====================================\n",
      "// Epoch : 69\n",
      " Train ...\n"
     ]
    },
    {
     "name": "stderr",
     "output_type": "stream",
     "text": [
      "100%|██████████| 7747/7747 [02:53<00:00, 44.69it/s]\n"
     ]
    },
    {
     "name": "stdout",
     "output_type": "stream",
     "text": [
      "-- AP on Train dataset : 0.6312282726377082\n",
      "-- ATTC on Train dataset : 0.8782208516525983\n",
      " Validation ...\n"
     ]
    },
    {
     "name": "stderr",
     "output_type": "stream",
     "text": [
      "100%|██████████| 11085/11085 [05:32<00:00, 33.31it/s] \n"
     ]
    },
    {
     "name": "stdout",
     "output_type": "stream",
     "text": [
      "-- AP on Validation dataset : 0.46645882276264033\n",
      "-- ATTC on Validation dataset : 0.7084529662311511\n",
      "Elipse:  845.9007489681244\n",
      "\n",
      "\n",
      "=====================================\n",
      "// Epoch : 70\n",
      " Train ...\n"
     ]
    },
    {
     "name": "stderr",
     "output_type": "stream",
     "text": [
      "100%|██████████| 7475/7475 [02:50<00:00, 43.77it/s]\n"
     ]
    },
    {
     "name": "stdout",
     "output_type": "stream",
     "text": [
      "-- AP on Train dataset : 0.6654029340633836\n",
      "-- ATTC on Train dataset : 0.9244742152731262\n",
      " Validation ...\n"
     ]
    },
    {
     "name": "stderr",
     "output_type": "stream",
     "text": [
      "100%|██████████| 11085/11085 [06:40<00:00, 27.65it/s]\n"
     ]
    },
    {
     "name": "stdout",
     "output_type": "stream",
     "text": [
      "-- AP on Validation dataset : 0.4596078002838925\n",
      "-- ATTC on Validation dataset : 0.6841973976324028\n",
      "Elipse:  908.120364189148\n",
      "\n",
      "\n",
      "=====================================\n",
      "// Epoch : 71\n",
      " Train ...\n"
     ]
    },
    {
     "name": "stderr",
     "output_type": "stream",
     "text": [
      "100%|██████████| 7459/7459 [02:54<00:00, 42.69it/s]\n"
     ]
    },
    {
     "name": "stdout",
     "output_type": "stream",
     "text": [
      "-- AP on Train dataset : 0.6557043271969947\n",
      "-- ATTC on Train dataset : 0.8561858034622588\n",
      " Validation ...\n"
     ]
    },
    {
     "name": "stderr",
     "output_type": "stream",
     "text": [
      "100%|██████████| 11085/11085 [05:04<00:00, 36.42it/s] \n"
     ]
    },
    {
     "name": "stdout",
     "output_type": "stream",
     "text": [
      "-- AP on Validation dataset : 0.504239106078299\n",
      "-- ATTC on Validation dataset : 0.6968716061830537\n",
      "Elipse:  815.0110030174255\n",
      "\n",
      "\n",
      "=====================================\n",
      "// Epoch : 72\n",
      " Train ...\n"
     ]
    },
    {
     "name": "stderr",
     "output_type": "stream",
     "text": [
      "100%|██████████| 7657/7657 [02:53<00:00, 44.15it/s]\n"
     ]
    },
    {
     "name": "stdout",
     "output_type": "stream",
     "text": [
      "-- AP on Train dataset : 0.6454705887956524\n",
      "-- ATTC on Train dataset : 1.0194753139271016\n",
      " Validation ...\n"
     ]
    },
    {
     "name": "stderr",
     "output_type": "stream",
     "text": [
      "100%|██████████| 11085/11085 [07:28<00:00, 24.74it/s]\n"
     ]
    },
    {
     "name": "stdout",
     "output_type": "stream",
     "text": [
      "-- AP on Validation dataset : 0.5400059618965356\n",
      "-- ATTC on Validation dataset : 0.6920923848382723\n",
      "Elipse:  958.0436186790466\n",
      "\n",
      "\n",
      "=====================================\n",
      "// Epoch : 73\n",
      " Train ...\n"
     ]
    },
    {
     "name": "stderr",
     "output_type": "stream",
     "text": [
      "100%|██████████| 6694/6694 [02:26<00:00, 45.75it/s]\n"
     ]
    },
    {
     "name": "stdout",
     "output_type": "stream",
     "text": [
      "-- AP on Train dataset : 0.6428311774750677\n",
      "-- ATTC on Train dataset : 0.8946288689865168\n",
      " Validation ...\n"
     ]
    },
    {
     "name": "stderr",
     "output_type": "stream",
     "text": [
      "100%|██████████| 11085/11085 [04:30<00:00, 41.03it/s] \n"
     ]
    },
    {
     "name": "stdout",
     "output_type": "stream",
     "text": [
      "-- AP on Validation dataset : 0.5155994099786432\n",
      "-- ATTC on Validation dataset : 0.6901913943091068\n",
      "Elipse:  734.8731489181519\n",
      "\n",
      "\n",
      "=====================================\n",
      "// Epoch : 74\n",
      " Train ...\n"
     ]
    },
    {
     "name": "stderr",
     "output_type": "stream",
     "text": [
      "100%|██████████| 7681/7681 [02:56<00:00, 43.42it/s]\n"
     ]
    },
    {
     "name": "stdout",
     "output_type": "stream",
     "text": [
      "-- AP on Train dataset : 0.6439955979582817\n",
      "-- ATTC on Train dataset : 0.8765778712806684\n",
      " Validation ...\n"
     ]
    },
    {
     "name": "stderr",
     "output_type": "stream",
     "text": [
      "100%|██████████| 11085/11085 [06:36<00:00, 27.92it/s] \n"
     ]
    },
    {
     "name": "stdout",
     "output_type": "stream",
     "text": [
      "-- AP on Validation dataset : 0.5312671443309358\n",
      "-- ATTC on Validation dataset : 0.7130086801194201\n",
      "Elipse:  911.6284794807434\n",
      "\n",
      "\n",
      "=====================================\n",
      "// Epoch : 75\n",
      " Train ...\n"
     ]
    },
    {
     "name": "stderr",
     "output_type": "stream",
     "text": [
      "100%|██████████| 8061/8061 [03:08<00:00, 42.71it/s]\n"
     ]
    },
    {
     "name": "stdout",
     "output_type": "stream",
     "text": [
      "-- AP on Train dataset : 0.6211634633504495\n",
      "-- ATTC on Train dataset : 0.9233440632672621\n",
      " Validation ...\n"
     ]
    },
    {
     "name": "stderr",
     "output_type": "stream",
     "text": [
      "100%|██████████| 11085/11085 [05:19<00:00, 34.73it/s] \n"
     ]
    },
    {
     "name": "stdout",
     "output_type": "stream",
     "text": [
      "-- AP on Validation dataset : 0.46990251356245955\n",
      "-- ATTC on Validation dataset : 0.6950161972964148\n",
      "Elipse:  855.5731856822968\n",
      "\n",
      "\n",
      "=====================================\n",
      "// Epoch : 76\n",
      " Train ...\n"
     ]
    },
    {
     "name": "stderr",
     "output_type": "stream",
     "text": [
      "100%|██████████| 7338/7338 [02:53<00:00, 42.25it/s]\n"
     ]
    },
    {
     "name": "stdout",
     "output_type": "stream",
     "text": [
      "-- AP on Train dataset : 0.5899581118013799\n",
      "-- ATTC on Train dataset : 0.9092476541730367\n",
      " Validation ...\n"
     ]
    },
    {
     "name": "stderr",
     "output_type": "stream",
     "text": [
      "100%|██████████| 11085/11085 [06:44<00:00, 27.38it/s] \n"
     ]
    },
    {
     "name": "stdout",
     "output_type": "stream",
     "text": [
      "-- AP on Validation dataset : 0.520540736413091\n",
      "-- ATTC on Validation dataset : 0.6909278362686182\n",
      "Elipse:  910.1724169254303\n",
      "\n",
      "\n",
      "=====================================\n",
      "// Epoch : 77\n",
      " Train ...\n"
     ]
    },
    {
     "name": "stderr",
     "output_type": "stream",
     "text": [
      "100%|██████████| 8453/8453 [04:14<00:00, 33.26it/s]\n"
     ]
    },
    {
     "name": "stdout",
     "output_type": "stream",
     "text": [
      "-- AP on Train dataset : 0.5998391279211704\n",
      "-- ATTC on Train dataset : 0.8852978837253186\n",
      " Validation ...\n"
     ]
    },
    {
     "name": "stderr",
     "output_type": "stream",
     "text": [
      "100%|██████████| 11085/11085 [04:55<00:00, 37.47it/s] \n"
     ]
    },
    {
     "name": "stdout",
     "output_type": "stream",
     "text": [
      "-- AP on Validation dataset : 0.5296654555663871\n",
      "-- ATTC on Validation dataset : 0.711709969351628\n",
      "Elipse:  901.5681047439575\n",
      "\n",
      "\n",
      "=====================================\n",
      "// Epoch : 78\n",
      " Train ...\n"
     ]
    },
    {
     "name": "stderr",
     "output_type": "stream",
     "text": [
      "100%|██████████| 7782/7782 [02:55<00:00, 44.25it/s]\n"
     ]
    },
    {
     "name": "stdout",
     "output_type": "stream",
     "text": [
      "-- AP on Train dataset : 0.6539895953938611\n",
      "-- ATTC on Train dataset : 0.9189013620536635\n",
      " Validation ...\n"
     ]
    },
    {
     "name": "stderr",
     "output_type": "stream",
     "text": [
      "100%|██████████| 11085/11085 [06:07<00:00, 30.15it/s] \n"
     ]
    },
    {
     "name": "stdout",
     "output_type": "stream",
     "text": [
      "-- AP on Validation dataset : 0.5186268030422371\n",
      "-- ATTC on Validation dataset : 0.7012621697699157\n",
      "Elipse:  886.055789232254\n",
      "\n",
      "\n",
      "=====================================\n",
      "// Epoch : 79\n",
      " Train ...\n"
     ]
    },
    {
     "name": "stderr",
     "output_type": "stream",
     "text": [
      "100%|██████████| 8330/8330 [04:17<00:00, 32.35it/s]\n"
     ]
    },
    {
     "name": "stdout",
     "output_type": "stream",
     "text": [
      "-- AP on Train dataset : 0.6569813917791334\n",
      "-- ATTC on Train dataset : 0.9223219231029314\n",
      " Validation ...\n"
     ]
    },
    {
     "name": "stderr",
     "output_type": "stream",
     "text": [
      "100%|██████████| 11085/11085 [05:55<00:00, 31.22it/s] \n"
     ]
    },
    {
     "name": "stdout",
     "output_type": "stream",
     "text": [
      "-- AP on Validation dataset : 0.4541776171647358\n",
      "-- ATTC on Validation dataset : 0.6962897988444832\n",
      "Elipse:  965.1223223209381\n",
      "\n",
      "\n",
      "=====================================\n",
      "// Epoch : 80\n",
      " Train ...\n"
     ]
    },
    {
     "name": "stderr",
     "output_type": "stream",
     "text": [
      "100%|██████████| 8265/8265 [03:10<00:00, 43.42it/s]\n"
     ]
    },
    {
     "name": "stdout",
     "output_type": "stream",
     "text": [
      "-- AP on Train dataset : 0.6299911458028781\n",
      "-- ATTC on Train dataset : 0.9037372384928627\n",
      " Validation ...\n"
     ]
    },
    {
     "name": "stderr",
     "output_type": "stream",
     "text": [
      "100%|██████████| 11085/11085 [05:59<00:00, 30.80it/s] \n"
     ]
    },
    {
     "name": "stdout",
     "output_type": "stream",
     "text": [
      "-- AP on Validation dataset : 0.536291766645674\n",
      "-- ATTC on Validation dataset : 0.7107712622402713\n",
      "Elipse:  896.5602023601532\n",
      "\n",
      "\n",
      "=====================================\n",
      "// Epoch : 81\n",
      " Train ...\n"
     ]
    },
    {
     "name": "stderr",
     "output_type": "stream",
     "text": [
      "100%|██████████| 7798/7798 [03:02<00:00, 42.81it/s]\n"
     ]
    },
    {
     "name": "stdout",
     "output_type": "stream",
     "text": [
      "-- AP on Train dataset : 0.6449522002977939\n",
      "-- ATTC on Train dataset : 0.9525520593479714\n",
      " Validation ...\n"
     ]
    },
    {
     "name": "stderr",
     "output_type": "stream",
     "text": [
      "100%|██████████| 11085/11085 [07:13<00:00, 25.57it/s] \n"
     ]
    },
    {
     "name": "stdout",
     "output_type": "stream",
     "text": [
      "-- AP on Validation dataset : 0.5005596071560298\n",
      "-- ATTC on Validation dataset : 0.6969008652190565\n",
      "Elipse:  956.0187194347382\n",
      "\n",
      "\n",
      "=====================================\n",
      "// Epoch : 82\n",
      " Train ...\n"
     ]
    },
    {
     "name": "stderr",
     "output_type": "stream",
     "text": [
      "100%|██████████| 8397/8397 [04:21<00:00, 32.17it/s]\n"
     ]
    },
    {
     "name": "stdout",
     "output_type": "stream",
     "text": [
      "-- AP on Train dataset : 0.6509789799474479\n",
      "-- ATTC on Train dataset : 0.9806057796532427\n",
      " Validation ...\n"
     ]
    },
    {
     "name": "stderr",
     "output_type": "stream",
     "text": [
      "100%|██████████| 11085/11085 [05:09<00:00, 35.80it/s] \n"
     ]
    },
    {
     "name": "stdout",
     "output_type": "stream",
     "text": [
      "-- AP on Validation dataset : 0.5309289709483305\n",
      "-- ATTC on Validation dataset : 0.6983411345510916\n",
      "Elipse:  923.4301507472992\n",
      "\n",
      "\n",
      "=====================================\n",
      "// Epoch : 83\n",
      " Train ...\n"
     ]
    },
    {
     "name": "stderr",
     "output_type": "stream",
     "text": [
      "100%|██████████| 8175/8175 [03:14<00:00, 41.95it/s]\n"
     ]
    },
    {
     "name": "stdout",
     "output_type": "stream",
     "text": [
      "-- AP on Train dataset : 0.6174925393583385\n",
      "-- ATTC on Train dataset : 0.9068577438410748\n",
      " Validation ...\n"
     ]
    },
    {
     "name": "stderr",
     "output_type": "stream",
     "text": [
      "100%|██████████| 11085/11085 [08:27<00:00, 21.86it/s] \n"
     ]
    },
    {
     "name": "stdout",
     "output_type": "stream",
     "text": [
      "-- AP on Validation dataset : 0.5086116082456937\n",
      "-- ATTC on Validation dataset : 0.703948961353621\n",
      "Elipse:  1055.8653087615967\n",
      "\n",
      "\n",
      "=====================================\n",
      "// Epoch : 84\n",
      " Train ...\n"
     ]
    },
    {
     "name": "stderr",
     "output_type": "stream",
     "text": [
      "100%|██████████| 7714/7714 [02:57<00:00, 43.37it/s]\n"
     ]
    },
    {
     "name": "stdout",
     "output_type": "stream",
     "text": [
      "-- AP on Train dataset : 0.6243399399576574\n",
      "-- ATTC on Train dataset : 0.9177014326494126\n",
      " Validation ...\n"
     ]
    },
    {
     "name": "stderr",
     "output_type": "stream",
     "text": [
      "100%|██████████| 11085/11085 [07:55<00:00, 23.29it/s]\n"
     ]
    },
    {
     "name": "stdout",
     "output_type": "stream",
     "text": [
      "-- AP on Validation dataset : 0.5102198655496002\n",
      "-- ATTC on Validation dataset : 0.694225817530444\n",
      "Elipse:  992.0998365879059\n",
      "\n",
      "\n",
      "=====================================\n",
      "// Epoch : 85\n",
      " Train ...\n"
     ]
    },
    {
     "name": "stderr",
     "output_type": "stream",
     "text": [
      "100%|██████████| 7568/7568 [03:11<00:00, 39.43it/s]\n"
     ]
    },
    {
     "name": "stdout",
     "output_type": "stream",
     "text": [
      "-- AP on Train dataset : 0.6190686280612893\n",
      "-- ATTC on Train dataset : 0.8765376272313962\n",
      " Validation ...\n"
     ]
    },
    {
     "name": "stderr",
     "output_type": "stream",
     "text": [
      "100%|██████████| 11085/11085 [04:38<00:00, 39.74it/s] \n"
     ]
    },
    {
     "name": "stdout",
     "output_type": "stream",
     "text": [
      "-- AP on Validation dataset : 0.5190953459423069\n",
      "-- ATTC on Validation dataset : 0.7063401697065661\n",
      "Elipse:  804.939945936203\n",
      "\n",
      "\n",
      "=====================================\n",
      "// Epoch : 86\n",
      " Train ...\n"
     ]
    },
    {
     "name": "stderr",
     "output_type": "stream",
     "text": [
      "100%|██████████| 8431/8431 [03:22<00:00, 41.60it/s]\n"
     ]
    },
    {
     "name": "stdout",
     "output_type": "stream",
     "text": [
      "-- AP on Train dataset : 0.6044631746030181\n",
      "-- ATTC on Train dataset : 1.031491587390744\n",
      " Validation ...\n"
     ]
    },
    {
     "name": "stderr",
     "output_type": "stream",
     "text": [
      "100%|██████████| 11085/11085 [10:06<00:00, 18.27it/s] \n"
     ]
    },
    {
     "name": "stdout",
     "output_type": "stream",
     "text": [
      "-- AP on Validation dataset : 0.5329384949165761\n",
      "-- ATTC on Validation dataset : 0.6992295377128122\n",
      "Elipse:  1160.7451095581055\n",
      "\n",
      "\n",
      "=====================================\n",
      "// Epoch : 87\n",
      " Train ...\n"
     ]
    },
    {
     "name": "stderr",
     "output_type": "stream",
     "text": [
      "100%|██████████| 7779/7779 [02:56<00:00, 44.16it/s]\n"
     ]
    },
    {
     "name": "stdout",
     "output_type": "stream",
     "text": [
      "-- AP on Train dataset : 0.6713416240661619\n",
      "-- ATTC on Train dataset : 0.8873869123503454\n",
      " Validation ...\n"
     ]
    },
    {
     "name": "stderr",
     "output_type": "stream",
     "text": [
      "100%|██████████| 11085/11085 [06:16<00:00, 29.45it/s] \n"
     ]
    },
    {
     "name": "stdout",
     "output_type": "stream",
     "text": [
      "-- AP on Validation dataset : 0.5386578748988116\n",
      "-- ATTC on Validation dataset : 0.6964268292332411\n",
      "Elipse:  892.3050200939178\n",
      "\n",
      "\n",
      "=====================================\n",
      "// Epoch : 88\n",
      " Train ...\n"
     ]
    },
    {
     "name": "stderr",
     "output_type": "stream",
     "text": [
      "100%|██████████| 8236/8236 [03:15<00:00, 42.17it/s]\n"
     ]
    },
    {
     "name": "stdout",
     "output_type": "stream",
     "text": [
      "-- AP on Train dataset : 0.6415793431128953\n",
      "-- ATTC on Train dataset : 0.9439410578385494\n",
      " Validation ...\n"
     ]
    },
    {
     "name": "stderr",
     "output_type": "stream",
     "text": [
      "100%|██████████| 11085/11085 [05:39<00:00, 32.66it/s] \n"
     ]
    },
    {
     "name": "stdout",
     "output_type": "stream",
     "text": [
      "-- AP on Validation dataset : 0.523405601616547\n",
      "-- ATTC on Validation dataset : 0.7031748225411333\n",
      "Elipse:  880.6549911499023\n",
      "\n",
      "\n",
      "=====================================\n",
      "// Epoch : 89\n",
      " Train ...\n"
     ]
    },
    {
     "name": "stderr",
     "output_type": "stream",
     "text": [
      "100%|██████████| 7831/7831 [03:00<00:00, 43.38it/s]\n"
     ]
    },
    {
     "name": "stdout",
     "output_type": "stream",
     "text": [
      "-- AP on Train dataset : 0.6192045339304963\n",
      "-- ATTC on Train dataset : 0.8969539475040198\n",
      " Validation ...\n"
     ]
    },
    {
     "name": "stderr",
     "output_type": "stream",
     "text": [
      "100%|██████████| 11085/11085 [10:46<00:00, 17.16it/s]\n"
     ]
    },
    {
     "name": "stdout",
     "output_type": "stream",
     "text": [
      "-- AP on Validation dataset : 0.5386903702730459\n",
      "-- ATTC on Validation dataset : 0.6949907431514875\n",
      "Elipse:  1163.08939909935\n",
      "\n",
      "\n",
      "=====================================\n",
      "// Epoch : 90\n",
      " Train ...\n"
     ]
    },
    {
     "name": "stderr",
     "output_type": "stream",
     "text": [
      "100%|██████████| 7703/7703 [02:51<00:00, 44.84it/s]\n"
     ]
    },
    {
     "name": "stdout",
     "output_type": "stream",
     "text": [
      "-- AP on Train dataset : 0.6346294438303145\n",
      "-- ATTC on Train dataset : 0.8980796212343793\n",
      " Validation ...\n"
     ]
    },
    {
     "name": "stderr",
     "output_type": "stream",
     "text": [
      "100%|██████████| 11085/11085 [06:20<00:00, 29.12it/s] \n"
     ]
    },
    {
     "name": "stdout",
     "output_type": "stream",
     "text": [
      "-- AP on Validation dataset : 0.5500963046535869\n",
      "-- ATTC on Validation dataset : 0.711925652493885\n",
      "Elipse:  888.7972886562347\n",
      "\n",
      "\n",
      "=====================================\n",
      "// Epoch : 91\n",
      " Train ...\n"
     ]
    },
    {
     "name": "stderr",
     "output_type": "stream",
     "text": [
      "100%|██████████| 7254/7254 [02:47<00:00, 43.18it/s]\n"
     ]
    },
    {
     "name": "stdout",
     "output_type": "stream",
     "text": [
      "-- AP on Train dataset : 0.6596085895387669\n",
      "-- ATTC on Train dataset : 0.9029039137189979\n",
      " Validation ...\n"
     ]
    },
    {
     "name": "stderr",
     "output_type": "stream",
     "text": [
      "100%|██████████| 11085/11085 [05:17<00:00, 34.93it/s] \n"
     ]
    },
    {
     "name": "stdout",
     "output_type": "stream",
     "text": [
      "-- AP on Validation dataset : 0.5184503061185116\n",
      "-- ATTC on Validation dataset : 0.6866991938122127\n",
      "Elipse:  817.211651802063\n",
      "\n",
      "\n",
      "=====================================\n",
      "// Epoch : 92\n",
      " Train ...\n"
     ]
    },
    {
     "name": "stderr",
     "output_type": "stream",
     "text": [
      "100%|██████████| 7943/7943 [02:59<00:00, 44.32it/s]\n"
     ]
    },
    {
     "name": "stdout",
     "output_type": "stream",
     "text": [
      "-- AP on Train dataset : 0.6364972381083126\n",
      "-- ATTC on Train dataset : 0.9226353619092853\n",
      " Validation ...\n"
     ]
    },
    {
     "name": "stderr",
     "output_type": "stream",
     "text": [
      "100%|██████████| 11085/11085 [06:08<00:00, 30.09it/s] \n"
     ]
    },
    {
     "name": "stdout",
     "output_type": "stream",
     "text": [
      "-- AP on Validation dataset : 0.5087754850150304\n",
      "-- ATTC on Validation dataset : 0.7087647151557046\n",
      "Elipse:  891.9978411197662\n",
      "\n",
      "\n",
      "=====================================\n",
      "// Epoch : 93\n",
      " Train ...\n"
     ]
    },
    {
     "name": "stderr",
     "output_type": "stream",
     "text": [
      "100%|██████████| 7484/7484 [02:53<00:00, 43.12it/s]\n"
     ]
    },
    {
     "name": "stdout",
     "output_type": "stream",
     "text": [
      "-- AP on Train dataset : 0.6710393435099451\n",
      "-- ATTC on Train dataset : 0.9080363899655829\n",
      " Validation ...\n"
     ]
    },
    {
     "name": "stderr",
     "output_type": "stream",
     "text": [
      "100%|██████████| 11085/11085 [05:20<00:00, 34.59it/s] \n"
     ]
    },
    {
     "name": "stdout",
     "output_type": "stream",
     "text": [
      "-- AP on Validation dataset : 0.5343632298010443\n",
      "-- ATTC on Validation dataset : 0.7031323203237168\n",
      "Elipse:  826.483788728714\n",
      "\n",
      "\n",
      "=====================================\n",
      "// Epoch : 94\n",
      " Train ...\n"
     ]
    },
    {
     "name": "stderr",
     "output_type": "stream",
     "text": [
      "100%|██████████| 7780/7780 [03:05<00:00, 41.92it/s]\n"
     ]
    },
    {
     "name": "stdout",
     "output_type": "stream",
     "text": [
      "-- AP on Train dataset : 0.6226350211110667\n",
      "-- ATTC on Train dataset : 0.8749966714727545\n",
      " Validation ...\n"
     ]
    },
    {
     "name": "stderr",
     "output_type": "stream",
     "text": [
      "100%|██████████| 11085/11085 [06:01<00:00, 30.65it/s] \n"
     ]
    },
    {
     "name": "stdout",
     "output_type": "stream",
     "text": [
      "-- AP on Validation dataset : 0.5303930357565668\n",
      "-- ATTC on Validation dataset : 0.7164922032424063\n",
      "Elipse:  887.8934135437012\n",
      "\n",
      "\n",
      "=====================================\n",
      "// Epoch : 95\n",
      " Train ...\n"
     ]
    },
    {
     "name": "stderr",
     "output_type": "stream",
     "text": [
      "100%|██████████| 8736/8736 [03:29<00:00, 41.65it/s]\n"
     ]
    },
    {
     "name": "stdout",
     "output_type": "stream",
     "text": [
      "-- AP on Train dataset : 0.6601460948340299\n",
      "-- ATTC on Train dataset : 0.9311872850845384\n",
      " Validation ...\n"
     ]
    },
    {
     "name": "stderr",
     "output_type": "stream",
     "text": [
      "100%|██████████| 11085/11085 [05:13<00:00, 35.33it/s] \n"
     ]
    },
    {
     "name": "stdout",
     "output_type": "stream",
     "text": [
      "-- AP on Validation dataset : 0.4619540393756886\n",
      "-- ATTC on Validation dataset : 0.704817907006046\n",
      "Elipse:  878.9959287643433\n",
      "\n",
      "\n",
      "=====================================\n",
      "// Epoch : 96\n",
      " Train ...\n"
     ]
    },
    {
     "name": "stderr",
     "output_type": "stream",
     "text": [
      "100%|██████████| 7815/7815 [03:04<00:00, 42.42it/s]\n"
     ]
    },
    {
     "name": "stdout",
     "output_type": "stream",
     "text": [
      "-- AP on Train dataset : 0.6351209870117221\n",
      "-- ATTC on Train dataset : 0.9249171834545045\n",
      " Validation ...\n"
     ]
    },
    {
     "name": "stderr",
     "output_type": "stream",
     "text": [
      "100%|██████████| 11085/11085 [08:55<00:00, 20.70it/s] \n"
     ]
    },
    {
     "name": "stdout",
     "output_type": "stream",
     "text": [
      "-- AP on Validation dataset : 0.49514713022519136\n",
      "-- ATTC on Validation dataset : 0.7045914900964573\n",
      "Elipse:  1059.2316682338715\n",
      "\n",
      "\n",
      "=====================================\n",
      "// Epoch : 97\n",
      " Train ...\n"
     ]
    },
    {
     "name": "stderr",
     "output_type": "stream",
     "text": [
      "100%|██████████| 7462/7462 [02:49<00:00, 43.95it/s]\n"
     ]
    },
    {
     "name": "stdout",
     "output_type": "stream",
     "text": [
      "-- AP on Train dataset : 0.6696099117281318\n",
      "-- ATTC on Train dataset : 0.8943196698756178\n",
      " Validation ...\n"
     ]
    },
    {
     "name": "stderr",
     "output_type": "stream",
     "text": [
      "100%|██████████| 11085/11085 [06:02<00:00, 30.55it/s] \n"
     ]
    },
    {
     "name": "stdout",
     "output_type": "stream",
     "text": [
      "-- AP on Validation dataset : 0.5064239242292258\n",
      "-- ATTC on Validation dataset : 0.7042241883412632\n",
      "Elipse:  865.563086271286\n",
      "\n",
      "\n",
      "=====================================\n",
      "// Epoch : 98\n",
      " Train ...\n"
     ]
    },
    {
     "name": "stderr",
     "output_type": "stream",
     "text": [
      "100%|██████████| 7646/7646 [03:03<00:00, 41.61it/s]\n"
     ]
    },
    {
     "name": "stdout",
     "output_type": "stream",
     "text": [
      "-- AP on Train dataset : 0.6679752725192912\n",
      "-- ATTC on Train dataset : 0.8927362898131935\n",
      " Validation ...\n"
     ]
    },
    {
     "name": "stderr",
     "output_type": "stream",
     "text": [
      "100%|██████████| 11085/11085 [06:09<00:00, 30.00it/s] \n"
     ]
    },
    {
     "name": "stdout",
     "output_type": "stream",
     "text": [
      "-- AP on Validation dataset : 0.5210403854499664\n",
      "-- ATTC on Validation dataset : 0.6956314193966093\n",
      "Elipse:  889.7697341442108\n",
      "\n",
      "\n",
      "=====================================\n",
      "// Epoch : 99\n",
      " Train ...\n"
     ]
    },
    {
     "name": "stderr",
     "output_type": "stream",
     "text": [
      "100%|██████████| 7557/7557 [02:52<00:00, 43.75it/s]\n"
     ]
    },
    {
     "name": "stdout",
     "output_type": "stream",
     "text": [
      "-- AP on Train dataset : 0.6630935591143405\n",
      "-- ATTC on Train dataset : 0.8839273558470623\n",
      " Validation ...\n"
     ]
    },
    {
     "name": "stderr",
     "output_type": "stream",
     "text": [
      "100%|██████████| 11085/11085 [06:09<00:00, 30.01it/s] \n"
     ]
    },
    {
     "name": "stdout",
     "output_type": "stream",
     "text": [
      "-- AP on Validation dataset : 0.5339106732200243\n",
      "-- ATTC on Validation dataset : 0.7010779950162019\n",
      "Elipse:  876.6135618686676\n",
      "\n",
      "\n",
      "=====================================\n",
      "// Epoch : 100\n",
      " Train ...\n"
     ]
    },
    {
     "name": "stderr",
     "output_type": "stream",
     "text": [
      "100%|██████████| 7940/7940 [03:06<00:00, 42.55it/s]\n"
     ]
    },
    {
     "name": "stdout",
     "output_type": "stream",
     "text": [
      "-- AP on Train dataset : 0.636942669061685\n",
      "-- ATTC on Train dataset : 0.893234473769928\n",
      " Validation ...\n"
     ]
    },
    {
     "name": "stderr",
     "output_type": "stream",
     "text": [
      "100%|██████████| 11085/11085 [05:16<00:00, 35.06it/s] \n"
     ]
    },
    {
     "name": "stdout",
     "output_type": "stream",
     "text": [
      "-- AP on Validation dataset : 0.5302313532364755\n",
      "-- ATTC on Validation dataset : 0.6925487622916278\n",
      "Elipse:  841.9005677700043\n"
     ]
    }
   ],
   "source": [
    "train(args)"
   ]
  },
  {
   "cell_type": "code",
   "execution_count": null,
   "id": "03f0b93d",
   "metadata": {},
   "outputs": [],
   "source": []
  }
 ],
 "metadata": {
  "kernelspec": {
   "display_name": "Python 3 (ipykernel)",
   "language": "python",
   "name": "python3"
  },
  "language_info": {
   "codemirror_mode": {
    "name": "ipython",
    "version": 3
   },
   "file_extension": ".py",
   "mimetype": "text/x-python",
   "name": "python",
   "nbconvert_exporter": "python",
   "pygments_lexer": "ipython3",
   "version": "3.7.13"
  }
 },
 "nbformat": 4,
 "nbformat_minor": 5
}
